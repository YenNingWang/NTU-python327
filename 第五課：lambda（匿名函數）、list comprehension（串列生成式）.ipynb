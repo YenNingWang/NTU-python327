{
 "cells": [
  {
   "cell_type": "markdown",
   "metadata": {
    "colab_type": "text",
    "id": "rktUyYIygCej"
   },
   "source": [
    "# 一行搞定判斷式\n",
    "一個 if...else 判斷式再簡單，也需要四行程式碼才能完成\n",
    "\n",
    "```python\n",
    "x = 6\n",
    "\n",
    "if x > 5:\n",
    "    print(\"x > 5\")\n",
    "else:\n",
    "    print(\"x <= 5\")\n",
    "    \n",
    "# x > 5\n",
    "```\n"
   ]
  },
  {
   "cell_type": "code",
   "execution_count": 0,
   "metadata": {
    "colab": {},
    "colab_type": "code",
    "id": "Ke-4ktufgCen"
   },
   "outputs": [],
   "source": []
  },
  {
   "cell_type": "markdown",
   "metadata": {
    "colab_type": "text",
    "id": "U6kv1R27gCer"
   },
   "source": [
    "# 一行搞定判斷式\n",
    "\n",
    "```python\n",
    "x = 6\n",
    "print(\"x > 5\") if x > 5 else print(\"x <= 5\")\n",
    "# True\n",
    "```\n"
   ]
  },
  {
   "cell_type": "code",
   "execution_count": 1,
   "metadata": {
    "colab": {},
    "colab_type": "code",
    "id": "5wW4A4TpgCes"
   },
   "outputs": [
    {
     "name": "stdout",
     "output_type": "stream",
     "text": [
      "x > 5\n"
     ]
    }
   ],
   "source": [
    "x = 6\n",
    "print(\"x > 5\") if x > 5 else print(\"x <= 5\")"
   ]
  },
  {
   "cell_type": "markdown",
   "metadata": {
    "colab_type": "text",
    "id": "ZN5Ed0ekgCew"
   },
   "source": [
    "# 大量資料的運算\n",
    "\n",
    "大量的資料是需要做分析和運算\n",
    "\n",
    "意味著我們要學會如何有效的去處理資料\n",
    "\n",
    "# 回顧一下串列\n",
    "\n",
    "之前我們學會了串列（List）\n",
    "\n",
    "今天若我需要對串列做 Element-wise（逐元）運算\n",
    "\n",
    "也就是將串列内的**每一筆資料都做一樣的運算或操作**\n",
    "\n",
    "從 Excel 的邏輯來理解，就是下拉的動作\n",
    "\n",
    "而用程式語言實作，就必須要用迴圈處理\n",
    "\n",
    "\n",
    "# 範例\n",
    "\n",
    "將 `km_list` 内的每一個長度從公里換算成英里：\n",
    "\n",
    "```python\n",
    "km_list = [3, 5, 10, 21, 42.195]\n",
    "mile_list = []\n",
    "\n",
    "km_to_mile = 0.621371192\n",
    "\n",
    "for km in km_list:\n",
    "    mile_list.append(km * km_to_mile)\n",
    "\n",
    "print(mile_list)\n",
    "# [1.864113576, 3.10685596, 6.21371192, 13.048795032000001, 26.21875744644]\n",
    "```\n"
   ]
  },
  {
   "cell_type": "code",
   "execution_count": 0,
   "metadata": {
    "colab": {},
    "colab_type": "code",
    "id": "8brkEonMgCex"
   },
   "outputs": [],
   "source": []
  },
  {
   "cell_type": "markdown",
   "metadata": {
    "colab_type": "text",
    "id": "VFyPoM7OgCe0"
   },
   "source": [
    "# for 迴圈雖然可以幫我們做逐元運算\n",
    "\n",
    "但是程式碼還是過渡冗長..."
   ]
  },
  {
   "cell_type": "code",
   "execution_count": 0,
   "metadata": {
    "colab": {},
    "colab_type": "code",
    "id": "pk--IjcpgCe1"
   },
   "outputs": [],
   "source": [
    "km_list = [3, 5, 10, 21, 42.195]\n",
    "mile_list = []\n",
    "\n",
    "for km in km_list:\n",
    "    mile_list.append(km /1.6)\n",
    "\n",
    "print(mile_list)"
   ]
  },
  {
   "cell_type": "markdown",
   "metadata": {
    "colab_type": "text",
    "id": "-p1D_pqYgCe6"
   },
   "source": [
    "# lambda 匿名函數\n",
    "\n",
    "我們在寫函式 (Function) 的時候，若是遇上相對簡單的邏輯，像是把數字加上一:\n",
    "\n",
    "```python\n",
    "def plus_one(n):\n",
    "    return n + 1\n",
    "\n",
    "plus_one(100) \n",
    "# 101\n",
    "```\n",
    "\n",
    "這樣的語法就相對的有些囉嗦：\n",
    "\n",
    "1. 沒必要為如此簡單的邏輯特別娶一個名字\n",
    "2. 不管邏輯再簡單，無可避免的需要寫兩行程式碼"
   ]
  },
  {
   "cell_type": "code",
   "execution_count": 2,
   "metadata": {
    "colab": {},
    "colab_type": "code",
    "id": "RziZzdjNgCe7"
   },
   "outputs": [
    {
     "name": "stdout",
     "output_type": "stream",
     "text": [
      "[101, 201, 301, 401, 501]\n"
     ]
    }
   ],
   "source": [
    "def add_one(num):\n",
    "    return num+1\n",
    "lst = [100,200,300,400,500]\n",
    "lst1 = []\n",
    "for i in lst:\n",
    "    lst1.append(add_one(i))\n",
    "print(lst1)"
   ]
  },
  {
   "cell_type": "code",
   "execution_count": 3,
   "metadata": {},
   "outputs": [
    {
     "data": {
      "text/plain": [
       "101"
      ]
     },
     "execution_count": 3,
     "metadata": {},
     "output_type": "execute_result"
    }
   ],
   "source": [
    "add1 = lambda num : num + 1\n",
    "add1(100)"
   ]
  },
  {
   "cell_type": "code",
   "execution_count": 4,
   "metadata": {},
   "outputs": [
    {
     "data": {
      "text/plain": [
       "[101, 201, 301, 401, 501]"
      ]
     },
     "execution_count": 4,
     "metadata": {},
     "output_type": "execute_result"
    }
   ],
   "source": [
    "lst = [100,200,300,400,500]\n",
    "\n",
    "list(map(lambda num : num+1,lst))"
   ]
  },
  {
   "cell_type": "markdown",
   "metadata": {
    "colab_type": "text",
    "id": "AHqPJPUtgCe_"
   },
   "source": [
    "\n",
    "# lambda 匿名函數\n",
    "這裡就跟各位介紹 lambda 函數，簡單來説，就是可以允許使用者**用一行程式碼搞定一個函數**:\n",
    "\n",
    "```python\n",
    "lambda 參數1, 參數2 : 算式\n",
    "```\n",
    "\n",
    "我們來試試把上面的 **plus_one** 函數轉成匿名函數： \n",
    "\n",
    "```python\n",
    "lambda n : n + 1\n",
    "# <function __main__.<lambda>(n)>\n",
    "```\n",
    "\n",
    "但是在執行之後，Python 回傳了一段我們看不懂的東西，這時，我們來試試將它放入一個變數内： \n",
    "\n",
    "```python\n",
    "# 注意我可以把 lambda 函數賦值給一個變數\n",
    "plus_one = lambda n : n + 1\n",
    "\n",
    "# 再把變數當成函數使用\n",
    "plus_one(10)\n",
    "# 11\n",
    "```"
   ]
  },
  {
   "cell_type": "code",
   "execution_count": 0,
   "metadata": {
    "colab": {},
    "colab_type": "code",
    "id": "gp2edLkKgCfA"
   },
   "outputs": [],
   "source": []
  },
  {
   "cell_type": "markdown",
   "metadata": {
    "colab_type": "text",
    "id": "3Imxnz0vgCfE"
   },
   "source": [
    "注意原本的寫法：\n",
    "\n",
    "```python\n",
    "def plus_one(n):\n",
    "    return n + 1\n",
    "```\n",
    "\n",
    "和匿名函數的寫法：\n",
    "\n",
    "```python\n",
    "plus_one = lambda n : n + 1\n",
    "```\n",
    "\n",
    "兩者在功能上是等價的，但是匿名函數\n",
    "\n",
    "- 不需要 def、return\n",
    "- 也不需要為函數取名"
   ]
  },
  {
   "cell_type": "markdown",
   "metadata": {
    "colab_type": "text",
    "id": "SsCejWFcgCfF"
   },
   "source": [
    "# 隨堂練習\n",
    "\n",
    "\n",
    "用 lambda 函數計算營業稅金額\n",
    "\n",
    "```python\n",
    "tax = lambda amount : ___________\n",
    "\n",
    "tax(100000)\n",
    "# 5000.0\n",
    "```\n"
   ]
  },
  {
   "cell_type": "code",
   "execution_count": 0,
   "metadata": {
    "colab": {},
    "colab_type": "code",
    "id": "3uiwHKf4gCfG"
   },
   "outputs": [],
   "source": []
  },
  {
   "cell_type": "markdown",
   "metadata": {
    "colab_type": "text",
    "id": "pKKwJ22UgCfK"
   },
   "source": [
    "\n",
    "# lambda 匿名函數\n",
    "如果今天需要實作超過一個參數的 lambda 匿名函數時...\n",
    "\n",
    "```python\n",
    "bmi = lambda weight, height : weight / height ** 2\n",
    "bmi(70, 1.80)\n",
    "# 21.604938271604937\n",
    "```"
   ]
  },
  {
   "cell_type": "code",
   "execution_count": 0,
   "metadata": {
    "colab": {},
    "colab_type": "code",
    "id": "e9hEInJMgCfM"
   },
   "outputs": [],
   "source": []
  },
  {
   "cell_type": "markdown",
   "metadata": {
    "colab_type": "text",
    "id": "JEE5lduigCfQ"
   },
   "source": [
    "# lambda 匿名函數\n",
    "\n",
    "背後的原理：λ演算法\n",
    "\n",
    "[λ演算法 Wiki](https://en.wikipedia.org/wiki/Lambda_calculus)\n",
    "\n",
    "---\n",
    "# 用 lambda 函數做逐元運算\n",
    "\n",
    "在實務上，lambda 一般都是跟 map 函數一起搭配使用，目的就是爲了能夠**用一行簡潔的程式碼做到逐元素運算**\n",
    "\n",
    "# map 函數\n",
    "\n",
    "若今天我需要針對一個 list 的資料做逐元運算\n",
    "\n",
    "輸入是一個 list，得出的結果也是一個 list，在實作上就相對麻煩...\n",
    "\n",
    "```python\n",
    "items = [1, 2, 3, 4, 5]\n",
    "squared = []\n",
    "for i in items:\n",
    "    squared.append(i**2)\n",
    "```"
   ]
  },
  {
   "cell_type": "code",
   "execution_count": 0,
   "metadata": {
    "colab": {},
    "colab_type": "code",
    "id": "swT3g54cgCfR"
   },
   "outputs": [],
   "source": []
  },
  {
   "cell_type": "markdown",
   "metadata": {
    "colab_type": "text",
    "id": "ztHjRK9tgCfW"
   },
   "source": [
    "\n",
    "# lambda 匿名函數\n",
    "如果今天lambda 函數有超過一個參數時...\n",
    "\n",
    "```python\n",
    "bmi = lambda weight, height : weight / height ** 2\n",
    "bmi(70, 1.80)\n",
    "# 21.604938271604937\n",
    "```"
   ]
  },
  {
   "cell_type": "code",
   "execution_count": 0,
   "metadata": {
    "colab": {},
    "colab_type": "code",
    "id": "scXZHmHOgCfX"
   },
   "outputs": [],
   "source": []
  },
  {
   "cell_type": "markdown",
   "metadata": {
    "colab_type": "text",
    "id": "XuQ5Si1KgCfc"
   },
   "source": [
    "# map 函數\n",
    "除了用迴圈之外，其實還可以使用 map 函數:\n",
    "\n",
    "map(要使用的函數, 用 list 等資料結構封裝的輸入)\n",
    "\n",
    "```python\n",
    "items = [1, 2, 3, 4, 5]\n",
    "\n",
    "# 把 items 裡面所有數字的二次方算出來\n",
    "result = map(lambda x: x**2, items)\n",
    "# 最後別忘了把回傳的 map 物件轉成 list\n",
    "list(result)\n",
    "# [1, 4, 9, 16, 25]\n",
    "```\n"
   ]
  },
  {
   "cell_type": "code",
   "execution_count": 0,
   "metadata": {
    "colab": {},
    "colab_type": "code",
    "id": "UBRVaXnxgCfd"
   },
   "outputs": [],
   "source": []
  },
  {
   "cell_type": "markdown",
   "metadata": {
    "colab_type": "text",
    "id": "pRpy7Wp6gCfh"
   },
   "source": [
    "# lambda + map 函數\n",
    "\n",
    "這樣寫的特性在於：\n",
    "- `lambda x: x**2` 可以被看成是一個**用過即丟的函數，無需定義名稱**\n",
    "\n",
    "- 在進行語法上由於結果是由多個函數拼凑起來的（很像 Excel 的公式）\n",
    "- 因此這種寫法被稱爲 Functional Programming （函式程式設計）\n"
   ]
  },
  {
   "cell_type": "markdown",
   "metadata": {
    "colab_type": "text",
    "id": "lFil4ReogCfi"
   },
   "source": [
    "# Functional Programming \n",
    "延申閲讀：\n",
    "\n",
    "1. [Wikipedia](https://zh.wikipedia.org/wiki/%E5%87%BD%E6%95%B0%E5%BC%8F%E7%BC%96%E7%A8%8B)\n",
    "2. [ITHome 教學](https://ithelp.ithome.com.tw/articles/10186465)"
   ]
  },
  {
   "cell_type": "code",
   "execution_count": 0,
   "metadata": {
    "colab": {},
    "colab_type": "code",
    "id": "VqA41F0XgCfl"
   },
   "outputs": [],
   "source": []
  },
  {
   "cell_type": "markdown",
   "metadata": {
    "colab_type": "text",
    "id": "oIz_7IfggCfo"
   },
   "source": [
    "# lambda vs def \n",
    "- 在函數的邏輯比較簡單的狀況下，會讓程式碼簡潔很多\n",
    "- 在處理大量的資料 (通常都是 list / array) 可以讓程式碼簡潔一些\n",
    "- 對於習慣 functional programming 的人來説 (像是 R)，語法比較直覺"
   ]
  },
  {
   "cell_type": "code",
   "execution_count": 0,
   "metadata": {
    "colab": {},
    "colab_type": "code",
    "id": "Nyy4ngZ1gCfq"
   },
   "outputs": [],
   "source": []
  },
  {
   "cell_type": "markdown",
   "metadata": {
    "colab_type": "text",
    "id": "PKHb1GG_gCft"
   },
   "source": [
    "# 隨堂練習\n",
    "用 lambda 與 map 函數算出所有在 receivables 裡的營業稅\n",
    "```python\n",
    "receivables = [1000, 100, 1000000, 2344550, 543000]\n",
    "taxes = _________________________\n",
    "```"
   ]
  },
  {
   "cell_type": "code",
   "execution_count": 0,
   "metadata": {
    "colab": {},
    "colab_type": "code",
    "id": "H6RNheawgCfu"
   },
   "outputs": [],
   "source": []
  },
  {
   "cell_type": "markdown",
   "metadata": {
    "colab_type": "text",
    "id": "9u6ycBzggCfw"
   },
   "source": [
    "# filter 函數\n",
    "\n",
    "若今天你想把一個集合的資料全部都迭代過一次\n",
    "\n",
    "以傳入的boolean function作為條件函式\n",
    "\n",
    "迭代每一個集合的元素，並收集結果為True的元素到一個List"
   ]
  },
  {
   "cell_type": "markdown",
   "metadata": {
    "colab_type": "text",
    "id": "4iZtqedagCfx"
   },
   "source": [
    "# filter 函數\n",
    "```python\n",
    "def greater_than_five(x):\n",
    "    if x > 5:\n",
    "        return True\n",
    "    else:\n",
    "        return False\n",
    "\n",
    "data = [1, 2, 3, 4, 5, 6, 7, 8, 9]\n",
    "result = filter(greater_than_five, data)\n",
    "list(result)\n",
    "# [6, 7, 8, 9]\n",
    "```\n"
   ]
  },
  {
   "cell_type": "code",
   "execution_count": 0,
   "metadata": {
    "colab": {},
    "colab_type": "code",
    "id": "amfdSDq-gCfy"
   },
   "outputs": [],
   "source": []
  },
  {
   "cell_type": "markdown",
   "metadata": {
    "colab_type": "text",
    "id": "52MGE6CMgCf0"
   },
   "source": [
    "# filter 函數\n",
    "\n",
    "上述的範例也可以改成用 lambda 函數寫：\n",
    "\n",
    "```python\n",
    "data = [1, 2, 3, 4, 5, 6, 7, 8, 9]\n",
    "\n",
    "list(filter(lambda n : n > 5, data))\n",
    "# [6, 7, 8, 9]\n",
    "```"
   ]
  },
  {
   "cell_type": "code",
   "execution_count": 0,
   "metadata": {
    "colab": {},
    "colab_type": "code",
    "id": "dTQp04kJgCf2"
   },
   "outputs": [],
   "source": []
  },
  {
   "cell_type": "markdown",
   "metadata": {
    "colab_type": "text",
    "id": "NnR2MuaZgCf6"
   },
   "source": [
    "# map() vs filter()\n",
    "- map 是算出每一個集合的值 (通常使用的 function 會回傳數值)\n",
    "- filter 是判斷一個集合有哪些值會被保留下來 (通常使用的 function 會回傳布林值)\n"
   ]
  },
  {
   "cell_type": "code",
   "execution_count": 0,
   "metadata": {
    "colab": {},
    "colab_type": "code",
    "id": "NeKkbXU1gCf7"
   },
   "outputs": [],
   "source": []
  },
  {
   "cell_type": "markdown",
   "metadata": {
    "colab_type": "text",
    "id": "0D01AR0RgCf_"
   },
   "source": [
    "# 匿名函數看似很厲害\n",
    "\n",
    "但是對初學者來説並不直覺\n",
    "\n",
    "---\n",
    "# 串列生成式（List Comprehension）\n",
    "\n",
    "今天我們知道上述範例最後計算的結果會是一個串列（需要封裝多筆資料）\n",
    "\n",
    "因此，Python 就提供了串列生成式，允許開發者用簡單的程式碼做出逐元運算\n",
    "\n",
    "---\n",
    "# 串列生成式（List Comprehension）\n",
    "\n",
    "```python\n",
    "[運算式 for 項目 in 可迭代項目]\n",
    "```\n"
   ]
  },
  {
   "cell_type": "code",
   "execution_count": 8,
   "metadata": {},
   "outputs": [
    {
     "name": "stdout",
     "output_type": "stream",
     "text": [
      "[1.875, 3.125, 6.25, 13.125, 26.371875]\n"
     ]
    }
   ],
   "source": [
    "km_list = [3,5,10,21,42.195]\n",
    "mile_list = []\n",
    "for km in km_list:\n",
    "    mile_list.append(km/1.6)\n",
    "print(mile_list)"
   ]
  },
  {
   "cell_type": "code",
   "execution_count": 5,
   "metadata": {
    "colab": {},
    "colab_type": "code",
    "id": "FMpmSOZ6gCf_"
   },
   "outputs": [
    {
     "data": {
      "text/plain": [
       "[1.875, 3.125, 6.25, 13.125, 26.371875]"
      ]
     },
     "execution_count": 5,
     "metadata": {},
     "output_type": "execute_result"
    }
   ],
   "source": [
    "km_list = [3,5,10,21,42.195]\n",
    "[km/1.6 for km in km_list]"
   ]
  },
  {
   "cell_type": "markdown",
   "metadata": {
    "colab_type": "text",
    "id": "uO1N1TGGgCgC"
   },
   "source": [
    "# 串列生成式（List Comprehension）\n",
    "\n",
    "```python\n",
    "km_list = [3, 5, 10, 21, 42.195]\n",
    "km_to_mile = 0.621371192\n",
    "# 將 km_list 的每一筆資料逐個放入 km，在 for 左邊的運算式算出結果之後放入 mile_list\n",
    "mile_list = [km * km_to_mile for km in km_list]\n",
    "print(mile_list)\n",
    "# [1.864113576, 3.10685596, 6.21371192, 13.048795032000001, 26.21875744644]\n",
    "```\n"
   ]
  },
  {
   "cell_type": "code",
   "execution_count": 0,
   "metadata": {
    "colab": {},
    "colab_type": "code",
    "id": "ZhiP7kcugCgC"
   },
   "outputs": [],
   "source": []
  },
  {
   "cell_type": "markdown",
   "metadata": {
    "colab_type": "text",
    "id": "JpA6whKngCgF"
   },
   "source": [
    "# 串列生成式（List Comprehension）\n",
    "\n",
    "另外，若今天需要做逐元的判斷 / 比較，輸出過濾後的結果：\n",
    "\n",
    "```python\n",
    "even_numbers = []\n",
    "\n",
    "for i in range(1, 11):\n",
    "    if i % 2 == 0:\n",
    "        even_numbers.append(i)\n",
    "\n",
    "print(even_numbers)\n",
    "# [2, 4, 6, 8, 10]\n",
    "```"
   ]
  },
  {
   "cell_type": "code",
   "execution_count": 20,
   "metadata": {
    "colab": {},
    "colab_type": "code",
    "id": "VqUXodGOgCgG"
   },
   "outputs": [
    {
     "name": "stdout",
     "output_type": "stream",
     "text": [
      "[2, 4, 6, 8, 10]\n"
     ]
    }
   ],
   "source": [
    "even_numbers = []\n",
    "\n",
    "for i in range(1, 11):\n",
    "    if i % 2 == 0:\n",
    "        even_numbers.append(i)\n",
    "\n",
    "print(even_numbers)"
   ]
  },
  {
   "cell_type": "markdown",
   "metadata": {
    "colab_type": "text",
    "id": "-6cD4ubcgCgK"
   },
   "source": [
    "# 串列生成式（List Comprehension）\n",
    "\n",
    "我們可以在串列生成式加上 `if` 判斷式\n",
    "\n",
    "```python\n",
    "even_numbers = [i for i in range(1, 11) if i % 2 == 0]\n",
    "print(even_numbers)\n",
    "# [2, 4, 6, 8, 10]\n",
    "```"
   ]
  },
  {
   "cell_type": "code",
   "execution_count": 0,
   "metadata": {
    "colab": {},
    "colab_type": "code",
    "id": "IGp6zA7GgCgL"
   },
   "outputs": [],
   "source": []
  },
  {
   "cell_type": "markdown",
   "metadata": {
    "colab_type": "text",
    "id": "7_DfACcCgCgO"
   },
   "source": [
    "# list 的問題\n",
    "- Python 的 list 無法使用 element-wise（逐元）運算\n",
    "- 在不引用套件的情況下我們可以使用迴圈來處理\n",
    "\n",
    "```python\n",
    "km_list = [3, 5, 10, 21, 42.195]\n",
    "km_to_mile = 0.621371192\n",
    "mile_list = []\n",
    "\n",
    "for km in km_list:\n",
    "    mile_list.append(km * km_to_mile)\n",
    "\n",
    "print(mile_list)\n",
    "```\n",
    "\n",
    "---\n",
    "# list 的問題\n",
    "當然，我們也可以使用 map() 和 lambda 函數來處理\n",
    "\n",
    "```python\n",
    "km_list = [3, 5, 10, 21, 42.195]\n",
    "mile_list = list(map(lambda x: x * 0.621371192, km_list))\n",
    "print(mile_list)\n",
    "```\n",
    "\n",
    "# 但是這樣似乎沒有簡化，反而把程式碼變得更複雜了..."
   ]
  },
  {
   "cell_type": "code",
   "execution_count": 0,
   "metadata": {
    "colab": {},
    "colab_type": "code",
    "id": "jRjwJAxJgCgP"
   },
   "outputs": [],
   "source": []
  },
  {
   "cell_type": "markdown",
   "metadata": {
    "colab_type": "text",
    "id": "ASJpYI89gCgT"
   },
   "source": [
    "# 這時就跟大家介紹一下 numpy \n",
    "\n",
    "[官網](https://docs.scipy.org/doc/numpy/user/quickstart.html)\n",
    "- 它是 Python 語言在資料科學領域的一個重要模組，主要用於大量資料處理上\n",
    "- 功能强大，語法簡單易懂\n",
    "- Numpy 底層以 C 和 Fortran 語言實作，操作多重維度的陣列**效能極佳**\n",
    "\n",
    "---\n",
    "# import numpy\n",
    "\n",
    "```python\n",
    "import numpy as np\n",
    "```"
   ]
  },
  {
   "cell_type": "code",
   "execution_count": 11,
   "metadata": {
    "colab": {},
    "colab_type": "code",
    "id": "7Fe1muh1gCgU"
   },
   "outputs": [],
   "source": [
    "import numpy as np"
   ]
  },
  {
   "cell_type": "markdown",
   "metadata": {
    "colab_type": "text",
    "id": "zLEclLX3gCgY"
   },
   "source": [
    "# numpy 牛刀小試\n",
    "\n",
    "```python\n",
    "km_list = [3, 5, 10, 21, 42.195]\n",
    "# 將一個串列轉換成一個 numpy array\n",
    "km_array = np.array(km_list)\n",
    "print(type(km_array))\n",
    "# numpy.ndarray\n",
    "```"
   ]
  },
  {
   "cell_type": "code",
   "execution_count": 19,
   "metadata": {
    "colab": {},
    "colab_type": "code",
    "id": "ofg62morgCgZ"
   },
   "outputs": [
    {
     "data": {
      "text/plain": [
       "array([ 1.875   ,  3.125   ,  6.25    , 13.125   , 26.371875])"
      ]
     },
     "execution_count": 19,
     "metadata": {},
     "output_type": "execute_result"
    }
   ],
   "source": [
    "import numpy as np\n",
    "\n",
    "km_list = [3,5,10,21,42.195]\n",
    "\n",
    "km_ary = np.array(km_list)\n",
    "\n",
    "km_ary / 1.6"
   ]
  },
  {
   "cell_type": "code",
   "execution_count": 23,
   "metadata": {},
   "outputs": [
    {
     "data": {
      "text/plain": [
       "numpy.ndarray"
      ]
     },
     "execution_count": 23,
     "metadata": {},
     "output_type": "execute_result"
    }
   ],
   "source": [
    "type(km_ary) #python最常運用在資料處理(Data Scrence)，有三大基本套件: Numpy、Pandas、Matplotlib\n",
    "             #Numpy -> nddarray"
   ]
  },
  {
   "cell_type": "code",
   "execution_count": 26,
   "metadata": {},
   "outputs": [
    {
     "data": {
      "text/plain": [
       "array([  1,   2,   3,   4,   5,   6,   7,   8,   9,  10,  11,  12,  13,\n",
       "        14,  15,  16,  17,  18,  19,  20,  21,  22,  23,  24,  25,  26,\n",
       "        27,  28,  29,  30,  31,  32,  33,  34,  35,  36,  37,  38,  39,\n",
       "        40,  41,  42,  43,  44,  45,  46,  47,  48,  49,  50,  51,  52,\n",
       "        53,  54,  55,  56,  57,  58,  59,  60,  61,  62,  63,  64,  65,\n",
       "        66,  67,  68,  69,  70,  71,  72,  73,  74,  75,  76,  77,  78,\n",
       "        79,  80,  81,  82,  83,  84,  85,  86,  87,  88,  89,  90,  91,\n",
       "        92,  93,  94,  95,  96,  97,  98,  99, 100])"
      ]
     },
     "execution_count": 26,
     "metadata": {},
     "output_type": "execute_result"
    }
   ],
   "source": [
    "np.arange(1,101)"
   ]
  },
  {
   "cell_type": "code",
   "execution_count": 28,
   "metadata": {},
   "outputs": [
    {
     "data": {
      "text/plain": [
       "array([0, 1, 2, 3, 4, 5, 6, 7, 8, 9])"
      ]
     },
     "execution_count": 28,
     "metadata": {},
     "output_type": "execute_result"
    }
   ],
   "source": [
    "np.arange(10) #他會把10當成停止點"
   ]
  },
  {
   "cell_type": "code",
   "execution_count": 29,
   "metadata": {},
   "outputs": [
    {
     "data": {
      "text/plain": [
       "array([1, 3, 5, 7, 9])"
      ]
     },
     "execution_count": 29,
     "metadata": {},
     "output_type": "execute_result"
    }
   ],
   "source": [
    "np.arange(1,10,2)"
   ]
  },
  {
   "cell_type": "markdown",
   "metadata": {
    "colab_type": "text",
    "id": "Kr7l4dzpgCge"
   },
   "source": [
    "# numpy 牛刀小試\n",
    "\n",
    "```python\n",
    "km_list = [3, 5, 10, 21, 42.195]\n",
    "km_array = np.array(km_list)\n",
    "km_to_mile = 0.621371192\n",
    "mile_array = km_array * km_to_mile\n",
    "print(mile_array)\n",
    "# [ 1.86411358  3.10685596  6.21371192 13.04879503 26.21875745]\n",
    "```"
   ]
  },
  {
   "cell_type": "code",
   "execution_count": 0,
   "metadata": {
    "colab": {},
    "colab_type": "code",
    "id": "iHCh1_RSgCgf"
   },
   "outputs": [],
   "source": []
  },
  {
   "cell_type": "markdown",
   "metadata": {
    "colab_type": "text",
    "id": "bncYDosBgCgi"
   },
   "source": [
    "# numpy.arange() 方法\n",
    "\n",
    "功能與 `range()` 函數相同，宣告一個數字的範圍\n",
    "\n",
    "```python\n",
    "import numpy as np\n",
    "\n",
    "arr1 = np.arange(10)\n",
    "print(arr1)\n",
    "arr2 = np.arange(1, 10)\n",
    "print(arr2)\n",
    "arr3 = np.arange(1, 10, 2)\n",
    "print(arr3)\n",
    "# [0 1 2 3 4 5 6 7 8 9]\n",
    "# [1 2 3 4 5 6 7 8 9]\n",
    "# [1 3 5 7 9]\n",
    "```\n"
   ]
  },
  {
   "cell_type": "code",
   "execution_count": 0,
   "metadata": {
    "colab": {},
    "colab_type": "code",
    "id": "ws8iInrlgCgj"
   },
   "outputs": [],
   "source": []
  },
  {
   "cell_type": "markdown",
   "metadata": {
    "colab_type": "text",
    "id": "qWy6YG8YgCgq"
   },
   "source": [
    "# 提取單筆資料\n",
    "\n",
    "語法與 Python 串列一樣，透過指定索引值\n",
    "\n",
    "```python\n",
    "arr = np.array([1,2,3])\n",
    "arr[0]\n",
    "# 1\n",
    "```"
   ]
  },
  {
   "cell_type": "code",
   "execution_count": 31,
   "metadata": {
    "colab": {},
    "colab_type": "code",
    "id": "nAB7gMkbgCgs"
   },
   "outputs": [
    {
     "data": {
      "text/plain": [
       "2"
      ]
     },
     "execution_count": 31,
     "metadata": {},
     "output_type": "execute_result"
    }
   ],
   "source": [
    "arr = np.array([1,2,3])\n",
    "arr[1]"
   ]
  },
  {
   "cell_type": "markdown",
   "metadata": {
    "colab_type": "text",
    "id": "Rn4wl2hOgCgu"
   },
   "source": [
    "# 切片（Slicing）\n",
    "\n",
    "```python\n",
    "arr1 = np.arange(0, 10)\n",
    "print(arr1)\n",
    "# array([0, 1, 2, 3, 4, 5, 6, 7, 8, 9])\n",
    "arr1[1:3]\n",
    "# array([1, 2])\n",
    "```"
   ]
  },
  {
   "cell_type": "code",
   "execution_count": 0,
   "metadata": {
    "colab": {},
    "colab_type": "code",
    "id": "GGPTRR2bgCgu"
   },
   "outputs": [],
   "source": []
  },
  {
   "cell_type": "markdown",
   "metadata": {
    "colab_type": "text",
    "id": "6jR-gAM5gCgw"
   },
   "source": [
    "# 切片（Slicing）\n",
    "\n",
    "```python\n",
    "arr1 = np.arange(0, 10)\n",
    "print(arr1)\n",
    "# array([0, 1, 2, 3, 4, 5, 6, 7, 8, 9])\n",
    "arr1[5:]\n",
    "# array([5, 6, 7, 8, 9])\n",
    "```"
   ]
  },
  {
   "cell_type": "code",
   "execution_count": 0,
   "metadata": {
    "colab": {},
    "colab_type": "code",
    "id": "TX94209bgCgy"
   },
   "outputs": [],
   "source": []
  },
  {
   "cell_type": "markdown",
   "metadata": {
    "colab_type": "text",
    "id": "1KyemP_3gCg1"
   },
   "source": [
    "# 切片（Slicing）\n",
    "\n",
    "```python\n",
    "arr1 = np.arange(0, 10)\n",
    "arr1[:5]\n",
    "# array([0, 1, 2, 3, 4])\n",
    "```\n"
   ]
  },
  {
   "cell_type": "code",
   "execution_count": 0,
   "metadata": {
    "colab": {},
    "colab_type": "code",
    "id": "MoqUTbFcgCg2"
   },
   "outputs": [],
   "source": []
  },
  {
   "cell_type": "markdown",
   "metadata": {
    "colab_type": "text",
    "id": "RcEPi2BbgCg4"
   },
   "source": [
    "# numpy 更新資料功能\n",
    "\n",
    "```python\n",
    "arr1 = np.arange(0, 10)\n",
    "arr1[2] = 8\n",
    "print(arr1)\n",
    "# array([0, 1, 8, 3, 4, 5, 6, 7, 8, 9])\n",
    "```\n"
   ]
  },
  {
   "cell_type": "code",
   "execution_count": 0,
   "metadata": {
    "colab": {},
    "colab_type": "code",
    "id": "EDsyx5k9gCg5"
   },
   "outputs": [],
   "source": []
  },
  {
   "cell_type": "markdown",
   "metadata": {
    "colab_type": "text",
    "id": "-zLHAzYqgCg8"
   },
   "source": [
    "# numpy 刪除資料功能\n",
    "\n",
    "```python\n",
    "arr1 = np.arange(0, 10)\n",
    "print(np.delete(arr1, 1))\n",
    "# array([0, 2, 3, 4, 5, 6, 7, 8, 9])\n",
    "```"
   ]
  },
  {
   "cell_type": "code",
   "execution_count": 0,
   "metadata": {
    "colab": {},
    "colab_type": "code",
    "id": "au3ya__EgCg9"
   },
   "outputs": [],
   "source": []
  },
  {
   "cell_type": "markdown",
   "metadata": {
    "colab_type": "text",
    "id": "esQ3LSOTgChD"
   },
   "source": [
    "# numpy 刪除資料功能\n",
    "\n",
    "```python\n",
    "arr1 = np.arange(0, 10)\n",
    "print(np.delete(arr1, slice(0, 5)))\n",
    "# array([5, 6, 7, 8, 9])\n",
    "```"
   ]
  },
  {
   "cell_type": "code",
   "execution_count": 0,
   "metadata": {
    "colab": {},
    "colab_type": "code",
    "id": "OH6R-dRzgChG"
   },
   "outputs": [],
   "source": []
  },
  {
   "cell_type": "markdown",
   "metadata": {
    "colab_type": "text",
    "id": "fJkwgzgGgChK"
   },
   "source": [
    "# ndArray 與 ndArray 的運算\n",
    "\n",
    "```python\n",
    "arr2 = np.arange(5)\n",
    "# array([0, 1, 2, 3, 4])\n",
    "arr3 = np.arange(2, 12, 2)\n",
    "# array([1., 2., 3., 4., 5.])\n",
    "```"
   ]
  },
  {
   "cell_type": "code",
   "execution_count": 35,
   "metadata": {
    "colab": {},
    "colab_type": "code",
    "id": "azTdNnUsgChL"
   },
   "outputs": [
    {
     "name": "stdout",
     "output_type": "stream",
     "text": [
      "[0 1 2 3 4]\n",
      "[ 2  4  6  8 10]\n",
      "[ 2  5  8 11 14]\n"
     ]
    }
   ],
   "source": [
    "arr2 = np.arange(5)\n",
    "print(arr2)\n",
    "arr3 = np.arange(2,12,2)\n",
    "print(arr3)\n",
    "\n",
    "print(arr2+arr3)"
   ]
  },
  {
   "cell_type": "markdown",
   "metadata": {
    "colab_type": "text",
    "id": "Yy3cee6dgChT"
   },
   "source": [
    "# ndArray 與 ndArray 的運算\n",
    "\n",
    "```python\n",
    "arr3 / 2\n",
    "# array([1., 2., 3., 4., 5.])\n",
    "```"
   ]
  },
  {
   "cell_type": "code",
   "execution_count": 0,
   "metadata": {
    "colab": {},
    "colab_type": "code",
    "id": "5i3p6jc9gChU"
   },
   "outputs": [],
   "source": []
  },
  {
   "cell_type": "markdown",
   "metadata": {
    "colab_type": "text",
    "id": "FxzSeRs6gChZ"
   },
   "source": [
    "# ndArray 與 ndArray 的運算\n",
    "\n",
    "```python\n",
    "arr2 + arr3\n",
    "# array([ 2,  5,  8, 11, 14])\n",
    "```"
   ]
  },
  {
   "cell_type": "code",
   "execution_count": 0,
   "metadata": {
    "colab": {},
    "colab_type": "code",
    "id": "V_UH8Wm1gCha"
   },
   "outputs": [],
   "source": []
  },
  {
   "cell_type": "markdown",
   "metadata": {
    "colab_type": "text",
    "id": "8OIURZX_gChe"
   },
   "source": [
    "# ndArray 與 ndArray 的運算\n",
    "\n",
    "```python\n",
    "arr2 - arr3\n",
    "# array([-2, -3, -4, -5, -6])\n",
    "```"
   ]
  },
  {
   "cell_type": "code",
   "execution_count": 0,
   "metadata": {
    "colab": {},
    "colab_type": "code",
    "id": "2bJmcoLhgChf"
   },
   "outputs": [],
   "source": []
  },
  {
   "cell_type": "markdown",
   "metadata": {
    "colab_type": "text",
    "id": "n5Y_z3UMgChi"
   },
   "source": [
    "# ndArray 與 ndArray 的運算\n",
    "\n",
    "```python\n",
    "arr2 * arr3\n",
    "# array([ 0,  4, 12, 24, 40])\n",
    "```"
   ]
  },
  {
   "cell_type": "code",
   "execution_count": 0,
   "metadata": {
    "colab": {},
    "colab_type": "code",
    "id": "4dvQOqM7gChj"
   },
   "outputs": [],
   "source": []
  },
  {
   "cell_type": "markdown",
   "metadata": {
    "colab_type": "text",
    "id": "N0H5z9S6gChl"
   },
   "source": [
    "# ndArray 與 ndArray 的運算\n",
    "\n",
    "```python\n",
    "arr2 / arr3\n",
    "# array([0.        , 0.25      , 0.33333333, 0.375     , 0.4       ])\n",
    "```\n"
   ]
  },
  {
   "cell_type": "code",
   "execution_count": 0,
   "metadata": {
    "colab": {},
    "colab_type": "code",
    "id": "2OxLsx6LgChm"
   },
   "outputs": [],
   "source": []
  },
  {
   "cell_type": "markdown",
   "metadata": {
    "colab_type": "text",
    "id": "4DVkRXxEgChp"
   },
   "source": [
    "# 隨堂練習\n",
    "\n",
    "- 請用 numpy 練習計算這五個人的 BMI\n",
    "- 回傳的多筆 bmi 值必須是一個陣列\n",
    "```python\n",
    "heights = [173, 168, 171, 189, 179]\n",
    "weights = [65.4, 59.2, 63.6, 88.4, 68.7]\n",
    "```"
   ]
  },
  {
   "cell_type": "code",
   "execution_count": 42,
   "metadata": {
    "colab": {},
    "colab_type": "code",
    "id": "q9hLpWG_gChq"
   },
   "outputs": [
    {
     "name": "stdout",
     "output_type": "stream",
     "text": [
      "[21.85171573 20.97505669 21.75028214 24.7473475  21.44127836]\n"
     ]
    }
   ],
   "source": [
    "import numpy as np\n",
    "\n",
    "heights = [173, 168, 171, 189, 179]  #python list\n",
    "weights = [65.4, 59.2, 63.6, 88.4, 68.7]\n",
    "\n",
    "H = np.array(heights)\n",
    "W = np.array(weights)\n",
    "\n",
    "print(W / (H/100)**2)\n"
   ]
  },
  {
   "cell_type": "markdown",
   "metadata": {
    "colab_type": "text",
    "id": "Ffs_J7lVgChs"
   },
   "source": [
    "# 多維串列\n",
    "\n",
    "若今天我們想透過 Python 的資料結構表達一個矩陣（Matrix）\n",
    "\n",
    "![](https://drive.google.com/uc?export=download&id=1guRahErsyffNPtrix__hXtsno9158HpQ)\n",
    "\n",
    "這就有一點麻煩了，因爲矩陣的資料雖然是有序的，但是矩陣**不會只有一個維度**，若是用 Python 的串列表示，是無法把維度的概念表達出來的\n",
    "\n",
    "---\n",
    "# 多維串列\n",
    "\n",
    "Python 可以在一個串列内放入一個或多個串列：\n",
    "\n",
    "```python\n",
    "matrx = [[1, 2],[3, 4],[5, 6]]\n",
    "```\n"
   ]
  },
  {
   "cell_type": "code",
   "execution_count": 50,
   "metadata": {
    "colab": {},
    "colab_type": "code",
    "id": "VQ7bPY9LgCht"
   },
   "outputs": [
    {
     "name": "stdout",
     "output_type": "stream",
     "text": [
      "[[1, 2], [3, 4], [5, 6]]\n",
      "[3, 4]\n",
      "4\n"
     ]
    }
   ],
   "source": [
    "matrx = [[1, 2],[3, 4],[5, 6]]\n",
    "print(matrx)\n",
    "print(matrx[1])\n",
    "print(matrx[1][1])"
   ]
  },
  {
   "cell_type": "markdown",
   "metadata": {
    "colab_type": "text",
    "id": "NGNpelK3gChx"
   },
   "source": [
    "# 多維串列\n",
    "\n",
    "把它展開來看:\n",
    "\n",
    "```python\n",
    "matrx = [\n",
    "            [1, 2],\n",
    "            [3, 4],\n",
    "            [5, 6]\n",
    "        ]\n",
    "```\n",
    "\n",
    "就會發現這種巢狀串列很適合用來表達類似像是矩陣的多維資料，内部的三個串列，代表矩陣的一行 (Row)，相對的，當三行曡起來時，就是一個縱向、寬度為 2 的欄 (Column)\n",
    "\n",
    "![](https://drive.google.com/uc?export=download&id=1GTTq1Nl_RjFFVI08A-NYoZBkTYtlvi5P)"
   ]
  },
  {
   "cell_type": "code",
   "execution_count": 0,
   "metadata": {
    "colab": {},
    "colab_type": "code",
    "id": "_0J4JHnAgChy"
   },
   "outputs": [],
   "source": []
  },
  {
   "cell_type": "markdown",
   "metadata": {
    "colab_type": "text",
    "id": "NfNkXP6EgCh0"
   },
   "source": [
    "# 多維串列\n",
    "\n",
    "一般我們在表達多維串列大小的方式，**與表達矩陣大小的方式是一樣的**，下面的範例程式碼就是在宣告一個 3 x 2 的多維串列\n",
    "\n",
    "```python\n",
    "matrx = [\n",
    "            [1, 2],\n",
    "            [3, 4],\n",
    "            [5, 6]\n",
    "        ]\n",
    "```\n"
   ]
  },
  {
   "cell_type": "code",
   "execution_count": 0,
   "metadata": {
    "colab": {},
    "colab_type": "code",
    "id": "VrZ4k2S8gCh1"
   },
   "outputs": [],
   "source": []
  },
  {
   "cell_type": "markdown",
   "metadata": {
    "colab_type": "text",
    "id": "5-0TarNHgCh3"
   },
   "source": [
    "# 提取多維串列的資料\n",
    "\n",
    "今天若需要讀取多維串列内的值\n",
    "\n",
    "```python\n",
    "matrx[第一維的索引值, 第二維的索引值]\n",
    "```"
   ]
  },
  {
   "cell_type": "code",
   "execution_count": 0,
   "metadata": {
    "colab": {},
    "colab_type": "code",
    "id": "K8kbMQ7XgCh3"
   },
   "outputs": [],
   "source": []
  },
  {
   "cell_type": "markdown",
   "metadata": {
    "colab_type": "text",
    "id": "fY2HsIqfgCh5"
   },
   "source": [
    "# 提取多維串列串列的資料\n",
    "\n",
    "今天若需要讀取多維串列内的值\n",
    "\n",
    "```python\n",
    "matrx[0]\n",
    "# [1, 2]\n",
    "\n",
    "matrx[0][1]\n",
    "# 2\n",
    "```\n"
   ]
  },
  {
   "cell_type": "code",
   "execution_count": 0,
   "metadata": {
    "colab": {},
    "colab_type": "code",
    "id": "gP4hTef2gCh6"
   },
   "outputs": [],
   "source": []
  },
  {
   "cell_type": "markdown",
   "metadata": {
    "colab_type": "text",
    "id": "eaY1MfrogCh8"
   },
   "source": [
    "# Nested Loop （巢狀迴圈）\n",
    "\n",
    "若要將多維串列内的每一個元素都遍歷一次，可以用巢狀迴圈，也就是在迴圈内再寫一個迴圈\n",
    "\n",
    "```python\n",
    "for i in range(0, 3):\n",
    "    for j in range(0, 2):\n",
    "        print(matrx[i][j])\n",
    "```"
   ]
  },
  {
   "cell_type": "code",
   "execution_count": 0,
   "metadata": {
    "colab": {},
    "colab_type": "code",
    "id": "w_t8r3FogCh9"
   },
   "outputs": [],
   "source": []
  },
  {
   "cell_type": "markdown",
   "metadata": {
    "colab_type": "text",
    "id": "Uxr-17ZrgCiA"
   },
   "source": [
    "# np 對多維串列的支援\n",
    "\n",
    "```python\n",
    "arr = np.arange(1, 7)\n",
    "arr\n",
    "# array([1, 2, 3, 4, 5, 6])\n",
    "```\n"
   ]
  },
  {
   "cell_type": "code",
   "execution_count": 53,
   "metadata": {
    "colab": {},
    "colab_type": "code",
    "id": "TaMiLhZfgCiA"
   },
   "outputs": [
    {
     "data": {
      "text/plain": [
       "array([1, 2, 3, 4, 5, 6])"
      ]
     },
     "execution_count": 53,
     "metadata": {},
     "output_type": "execute_result"
    }
   ],
   "source": [
    "arr = np.arange(1,7)\n",
    "arr"
   ]
  },
  {
   "cell_type": "markdown",
   "metadata": {
    "colab_type": "text",
    "id": "t2mgf15EgCiC"
   },
   "source": [
    "# np.reshape()\n",
    "\n",
    "改變一個 ndArray 的形狀，可以將每一個維度的大小依序放入參數：\n",
    "\n",
    "```python\n",
    "arr.reshape(3, 2)\n",
    "\n",
    "#array([[1, 2],\n",
    "#       [3, 4],\n",
    "#       [5, 6]])\n",
    "```\n"
   ]
  },
  {
   "cell_type": "code",
   "execution_count": 54,
   "metadata": {
    "colab": {},
    "colab_type": "code",
    "id": "ZKda7POdgCiD"
   },
   "outputs": [
    {
     "data": {
      "text/plain": [
       "array([[1, 2],\n",
       "       [3, 4],\n",
       "       [5, 6]])"
      ]
     },
     "execution_count": 54,
     "metadata": {},
     "output_type": "execute_result"
    }
   ],
   "source": [
    "arr.reshape(3,2) #和矩陣同 -> 先高再寬"
   ]
  },
  {
   "cell_type": "markdown",
   "metadata": {
    "colab_type": "text",
    "id": "HGLqeL3RgCiI"
   },
   "source": [
    "# np.shape\n",
    "\n",
    "檢查一個 ndArray 的大小\n",
    "\n",
    "```python\n",
    "arr1 = arr.reshape(4,3)\n",
    "arr1.shape\n",
    "# (4, 3)\n",
    "```"
   ]
  },
  {
   "cell_type": "code",
   "execution_count": 55,
   "metadata": {
    "colab": {},
    "colab_type": "code",
    "id": "xJnZXFk_gCiI"
   },
   "outputs": [
    {
     "data": {
      "text/plain": [
       "array([[ 0,  1,  2],\n",
       "       [ 3,  4,  5],\n",
       "       [ 6,  7,  8],\n",
       "       [ 9, 10, 11]])"
      ]
     },
     "execution_count": 55,
     "metadata": {},
     "output_type": "execute_result"
    }
   ],
   "source": [
    "arr1 = np.arange(12)\n",
    "arr1 = arr1.reshape(4,3)\n",
    "arr1"
   ]
  },
  {
   "cell_type": "markdown",
   "metadata": {
    "colab_type": "text",
    "id": "vREEADb8gCiK"
   },
   "source": [
    "# 多維 ndArray 的切片\n",
    "\n",
    "```python\n",
    "arr1[:2]\n",
    "# array([[0, 1, 2],\n",
    "#        [3, 4, 5]])\n",
    "```\n"
   ]
  },
  {
   "cell_type": "code",
   "execution_count": 57,
   "metadata": {
    "colab": {},
    "colab_type": "code",
    "id": "dxKaD6xsgCiL"
   },
   "outputs": [
    {
     "name": "stdout",
     "output_type": "stream",
     "text": [
      "[[0 1 2]\n",
      " [3 4 5]]\n"
     ]
    }
   ],
   "source": [
    "print(arr1[:2])"
   ]
  },
  {
   "cell_type": "markdown",
   "metadata": {
    "colab_type": "text",
    "id": "44f3HEpvgCiN"
   },
   "source": [
    "# 多維 ndArray 的切片\n",
    "\n",
    "```python\n",
    "arr1[:2]\n",
    "# array([[0, 1, 2],\n",
    "#        [3, 4, 5]])\n",
    "```"
   ]
  },
  {
   "cell_type": "code",
   "execution_count": 58,
   "metadata": {
    "colab": {},
    "colab_type": "code",
    "id": "y2QlKs5XgCiO"
   },
   "outputs": [
    {
     "name": "stdout",
     "output_type": "stream",
     "text": [
      "[[ 6  7  8]\n",
      " [ 9 10 11]]\n"
     ]
    }
   ],
   "source": [
    "print(arr1[2:])"
   ]
  },
  {
   "cell_type": "markdown",
   "metadata": {
    "colab_type": "text",
    "id": "TzXbnZq0gCiR"
   },
   "source": [
    "# 多維 ndArray 的切片\n",
    "\n",
    "```python\n",
    "arr4[2:]\n",
    "# array([[ 6,  7,  8],\n",
    "#        [ 9, 10, 11]])\n",
    "```"
   ]
  },
  {
   "cell_type": "code",
   "execution_count": 0,
   "metadata": {
    "colab": {},
    "colab_type": "code",
    "id": "HpH09768gCiS"
   },
   "outputs": [],
   "source": []
  },
  {
   "cell_type": "markdown",
   "metadata": {
    "colab_type": "text",
    "id": "zk1rgiC7gCiW"
   },
   "source": [
    "# 多維 ndArray 的切片\n",
    "\n",
    "```python\n",
    "arr4[2:,1:]\n",
    "# array([[ 7,  8],\n",
    "#        [10, 11]])\n",
    "```"
   ]
  },
  {
   "cell_type": "code",
   "execution_count": 60,
   "metadata": {
    "colab": {},
    "colab_type": "code",
    "id": "IECdX7U4gCiX"
   },
   "outputs": [
    {
     "name": "stdout",
     "output_type": "stream",
     "text": [
      "[[ 0  1  2]\n",
      " [ 3  4  5]\n",
      " [ 6  7  8]\n",
      " [ 9 10 11]]\n",
      "[[ 7  8]\n",
      " [10 11]]\n"
     ]
    }
   ],
   "source": [
    "print(arr1)\n",
    "print(arr1[2:,1:])"
   ]
  },
  {
   "cell_type": "markdown",
   "metadata": {
    "colab_type": "text",
    "id": "_VADMOGAgCib"
   },
   "source": [
    "# np.zeros\n",
    "\n",
    "```python\n",
    "np.zeros((3,2))\n",
    "# array([[0., 0.],\n",
    "#        [0., 0.],\n",
    "#        [0., 0.]])\n",
    "```"
   ]
  },
  {
   "cell_type": "code",
   "execution_count": 0,
   "metadata": {
    "colab": {},
    "colab_type": "code",
    "id": "6vMwmCK5gCid"
   },
   "outputs": [],
   "source": []
  },
  {
   "cell_type": "markdown",
   "metadata": {
    "colab_type": "text",
    "id": "kDdYJWWzgCih"
   },
   "source": [
    "# np.ones\n",
    "\n",
    "```python\n",
    "np.ones((3,4))\n",
    "# array([[1., 1., 1., 1.],\n",
    "#        [1., 1., 1., 1.],\n",
    "#        [1., 1., 1., 1.]])\n",
    "```"
   ]
  },
  {
   "cell_type": "code",
   "execution_count": 0,
   "metadata": {
    "colab": {},
    "colab_type": "code",
    "id": "gRr9SMNygCii"
   },
   "outputs": [],
   "source": []
  },
  {
   "cell_type": "markdown",
   "metadata": {
    "colab_type": "text",
    "id": "zjEFZ14DgCil"
   },
   "source": [
    "\n",
    "# 補充\n",
    "\n",
    "有興趣的可以參考到 Numpy 的官方文件做進一步的學習。\n",
    "\n",
    "官方教學：[https://docs.scipy.org/doc/numpy/user/quickstart.html](https://docs.scipy.org/doc/numpy/user/quickstart.html)\n",
    "\n",
    "Github 專案：[https://github.com/numpy/numpy](https://github.com/numpy/numpy)\n",
    "\n"
   ]
  }
 ],
 "metadata": {
  "colab": {
   "collapsed_sections": [
    "pKKwJ22UgCfK",
    "JEE5lduigCfQ",
    "ztHjRK9tgCfW",
    "XuQ5Si1KgCfc",
    "pRpy7Wp6gCfh",
    "lFil4ReogCfi",
    "oIz_7IfggCfo",
    "PKHb1GG_gCft",
    "9u6ycBzggCfw",
    "4iZtqedagCfx",
    "52MGE6CMgCf0",
    "NnR2MuaZgCf6",
    "0D01AR0RgCf_",
    "uO1N1TGGgCgC",
    "JpA6whKngCgF",
    "-6cD4ubcgCgK",
    "7_DfACcCgCgO",
    "ASJpYI89gCgT",
    "zLEclLX3gCgY",
    "Kr7l4dzpgCge",
    "bncYDosBgCgi",
    "qWy6YG8YgCgq",
    "Rn4wl2hOgCgu",
    "6jR-gAM5gCgw",
    "1KyemP_3gCg1",
    "RcEPi2BbgCg4",
    "-zLHAzYqgCg8",
    "esQ3LSOTgChD",
    "fJkwgzgGgChK",
    "Yy3cee6dgChT",
    "FxzSeRs6gChZ",
    "8OIURZX_gChe",
    "n5Y_z3UMgChi",
    "N0H5z9S6gChl",
    "4DVkRXxEgChp",
    "Ffs_J7lVgChs",
    "NGNpelK3gChx",
    "NfNkXP6EgCh0",
    "5-0TarNHgCh3",
    "fY2HsIqfgCh5",
    "eaY1MfrogCh8",
    "Uxr-17ZrgCiA",
    "t2mgf15EgCiC",
    "HGLqeL3RgCiI",
    "vREEADb8gCiK",
    "44f3HEpvgCiN",
    "TzXbnZq0gCiR",
    "zk1rgiC7gCiW",
    "_VADMOGAgCib",
    "kDdYJWWzgCih",
    "zjEFZ14DgCil"
   ],
   "name": "Python 程式設計 第五課：lambda（匿名函數）、list comprehension（串列生成式）.ipynb",
   "provenance": []
  },
  "kernelspec": {
   "display_name": "Python 3",
   "language": "python",
   "name": "python3"
  },
  "language_info": {
   "codemirror_mode": {
    "name": "ipython",
    "version": 3
   },
   "file_extension": ".py",
   "mimetype": "text/x-python",
   "name": "python",
   "nbconvert_exporter": "python",
   "pygments_lexer": "ipython3",
   "version": "3.6.5"
  }
 },
 "nbformat": 4,
 "nbformat_minor": 1
}
