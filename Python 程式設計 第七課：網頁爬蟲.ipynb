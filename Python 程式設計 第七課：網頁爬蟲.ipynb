{
 "cells": [
  {
   "cell_type": "markdown",
   "metadata": {
    "colab_type": "text",
    "id": "DdBitnFUNP8j"
   },
   "source": [
    "# 透過 Python 擷取網頁上的資料"
   ]
  },
  {
   "cell_type": "markdown",
   "metadata": {
    "colab_type": "text",
    "id": "n1uW2DSxNP8o"
   },
   "source": [
    "在大數據變成顯學的時代，今天我們要做資料分析，若沒有大量的資料，是無法分析出任何有價值的資訊出來的。\n",
    "\n",
    "但是在一般情況下，我們都沒有大量的資料可以做分析，但幸運的是，由於網路的蓬勃發展，獲取任何一個領域的資料比起過往相對就變得容易許多。但是，由於網頁上的資料非常多，若透過手動的方式截取資料，就不是一個很有效率的方法了。\n",
    "\n",
    "因此這時候，從網路上蒐集資料這個議題也變得更加重要，只需一個簡單的程式，就能透過低成本並且自動化的方式從網頁上獲得大量的資料，因此**學習與實作網頁爬蟲成為一個投資報酬率極高的事務**，而 Python 語言由於生態系龐大，套件衆多，也讓用 Python 實作爬蟲比起其他語言相對簡單許多。"
   ]
  },
  {
   "cell_type": "markdown",
   "metadata": {
    "colab_type": "text",
    "id": "z4WAmgQyNP8q"
   },
   "source": [
    "## 請先開啓範例網頁：\n",
    "\n",
    "http://pythonscraping.com/pages/warandpeace.html\n",
    "\n",
    "*以上練習用網頁由 Ryan Mitchell 維護，可以的話，大家買一本他的書支持他繼續維護這個網站：[連結](https://www.books.com.tw/products/0010800965)"
   ]
  },
  {
   "cell_type": "markdown",
   "metadata": {
    "colab_type": "text",
    "id": "irY_iD9GNP8r"
   },
   "source": [
    "## 網絡基礎： HTTP 溝通協定\n",
    "\n",
    "HTTP 用白話講，就像是**電腦與電腦之間的共同語言**，電腦需要通過這個共同語言，才能在網絡上面互相溝通。\n",
    "\n",
    "![](https://drive.google.com/uc?export=download&id=1UiDUXriZVo83ePdiSQTLS4QWnCN_YsVu)\n",
    "\n",
    "而一個 HTTP 的請求 (Request) 是根據 **HTTP 動詞**(HTTP Verb) 以及**網址**才能運作，舉例來説，當你在輸入 https://www.google.com/ ，連至 Google 的首頁時，整個背後的運作流程是：\n",
    "\n",
    "1. 用戶端 (你的瀏覽器) 針對 Google 的雲端伺服器發送了一個 GET Request\n",
    "2. 而 Google 的雲端伺服器在收到請求後，將需要呈現該網頁的資料都計算完成\n",
    "3. 接著 Google 的雲端伺服器會回傳一個回應 (Response)，這個 Response 内通常就包含了一個 html 檔案\n",
    "4. 用戶端 (你的瀏覽器) 在下載了請求回傳的 html 檔案之後，將 html 程式碼渲染成網頁，呈現給使用者\n",
    "\n",
    "## HTTP Request 的種類\n",
    "\n",
    "一般來説，Request 有 GET 與 POST：\n",
    "\n",
    "- GET 代表我需要查詢 / 顯示資料，像是 GET https://www.facebook.com/ 代表查詢 facebook 首頁\n",
    "- POST 代表我需要新增資料，通常用於網頁上的表單，像是 POST https://www.foodpanda.com/orders 代表新增訂單\n",
    "\n",
    "## HTTP response 的種類\n",
    "\n",
    "- 一般伺服器通常是回傳 html 網頁檔案\n",
    "- 但若是一些功能像是下載 / 輸出報表，Response 則是一個 xlsx / csv 檔案\n",
    "\n",
    "\n",
    "## 從 Excel 的角度來理解...\n",
    "\n",
    "像是 FB, Google, Yahoo 等網站，**其實都像是一個個運行在雲端上的 Excel 函數**。\n",
    "\n",
    "而要使用該函數時，就必須透過一個 HTTP 的請求 (Request) 來呼叫該函數。讓瀏覽器發送 HTTP Request 的方法就是輸入網址，就像是在 Excel 上輸入公式一樣。\n",
    "\n",
    "而該公式若執行成功，不同於 Excel 是將結果顯示在工作表上，HTTP Request 的結果就是一個 Response，該 Response 通常是顯示在瀏覽器上的網頁，也有可能是 xlsx / csv 檔案"
   ]
  },
  {
   "cell_type": "markdown",
   "metadata": {
    "colab_type": "text",
    "id": "qXd_i_QONP8t"
   },
   "source": [
    "\n",
    "## 用 Python 實作爬蟲\n",
    "\n",
    "Python 用來實作爬蟲的兩個主流套件：\n",
    "\n",
    "- BeautifulSoup [官方文件](https://www.crummy.com/software/BeautifulSoup/bs4/doc.zh/)\n",
    "\n",
    "- PyQuery [官方文件](https://pythonhosted.org/pyquery/)\n",
    "\n",
    "簡單來説：\n",
    "\n",
    "**BeautifulSoup** 是比較貼近**程式設計師**的角度去思考\n",
    "\n",
    "**PyQuery** 貼近**網頁開發者**的角度去思考\n",
    "\n",
    "在這堂課考量到並不是每一個人都具備網頁開發的背景，因此我們會使用 BeautifulSoup 套件來實作爬蟲"
   ]
  },
  {
   "cell_type": "markdown",
   "metadata": {
    "colab_type": "text",
    "id": "Ac0N9fsvNP8u"
   },
   "source": [
    "## 網頁開發 101\n",
    "\n",
    "任何網頁都是由 **html 標籤(tag)** 所組成，基本結構如下\n",
    "```html\n",
    "<標籤名稱 class=\"類別名稱\">內容</標籤名稱>\n",
    "<標籤名稱 id=\"id名稱\">內容</標籤名稱>\n",
    "```\n",
    "今天我們要擷取的任何內容，一定是被包裹在在某一個標籤裡面\n",
    "而今天若網頁開發者需要改變任何一個標籤的**樣式**，就需要用到 **css** 語法\n",
    "以上面的網頁為例，人名都是以綠色顯示，所以就先宣告一個名為 **green** 的 css 類別:\n",
    "\n",
    "```html\n",
    "<style>\n",
    ".green{\n",
    "\tcolor:#55ff55;\n",
    "}\n",
    "</style>\n",
    "```\n",
    "\n",
    "若今天希望讓一個標籤的内容文字變成綠色，可以使用定義好的 .green 這個 css 類別：\n",
    "\n",
    "```html\n",
    "<span class=\"green\">Prince Vasili Kuragin</span>\n",
    "```\n",
    "\n",
    "*想了解更多 html 可以看一下 Mozilla 官網的教學：[HTML 基礎](https://developer.mozilla.org/zh-TW/docs/Learn/Getting_started_with_the_web/HTML_basics)"
   ]
  },
  {
   "cell_type": "markdown",
   "metadata": {
    "colab_type": "text",
    "id": "0Ov5EcSJNP8w"
   },
   "source": [
    "## 使用 標籤 「類別名稱」取得資料\n",
    "\n",
    "要擷取資料前，首先需要透過方法**選擇**到該標籤\n",
    "##  BeautifulSoup 套件\n",
    "\n",
    "典故來自 Alice in WonderLand 裏面一首同名的詩，由假海龜 (Mock Turtle) 所唱，影射英國料理假海龜湯...\n",
    "\n",
    "有興趣自己可以去 Google, 不多説了...\n",
    "\n",
    "想查看 BeautifulSoup 套件的功能請看一下官方的中文文件：\n",
    "\n",
    "[BeautifulSoup 官方文件](https://www.crummy.com/software/BeautifulSoup/bs4/doc.zh/)\n"
   ]
  },
  {
   "cell_type": "markdown",
   "metadata": {
    "colab_type": "text",
    "id": "ByfQTMtkNP8x"
   },
   "source": [
    "```python\n",
    "from bs4 import BeautifulSoup\n",
    "import requests\n",
    "\n",
    "# 針對網頁發送 GET Reqeust\n",
    "res = requests.get(\"http://pythonscraping.com/pages/warandpeace.html\")\n",
    "# 將回傳的 Response 内的文字用 BeautifulSoup 解析\n",
    "html = BeautifulSoup(res.text, \"html.parser\")\n",
    "```"
   ]
  },
  {
   "cell_type": "code",
   "execution_count": 1,
   "metadata": {
    "colab": {},
    "colab_type": "code",
    "id": "ho8oDCIuNP8y",
    "scrolled": true
   },
   "outputs": [
    {
     "data": {
      "text/plain": [
       "'<html>\\n<head>\\n<style>\\n.green{\\n\\tcolor:#55ff55;\\n}\\n.red{\\n\\tcolor:#ff5555;\\n}\\n#text{\\n\\twidth:50%;\\n}\\n</style>\\n</head>\\n<body>\\n<h1>War and Peace</h1>\\n<h2>Chapter 1</h2>\\n<div id=\"text\">\\n\"<span class=\"red\">Well, Prince, so Genoa and Lucca are now just family estates of the\\nBuonapartes. But I warn you, if you don\\'t tell me that this means war,\\nif you still try to defend the infamies and horrors perpetrated by\\nthat Antichrist- I really believe he is Antichrist- I will have\\nnothing more to do with you and you are no longer my friend, no longer\\nmy \\'faithful slave,\\' as you call yourself! But how do you do? I see\\nI have frightened you- sit down and tell me all the news.</span>\"\\n<p/>\\nIt was in July, 1805, and the speaker was the well-known <span class=\"green\">Anna\\nPavlovna Scherer</span>, maid of honor and favorite of the <span class=\"green\">Empress Marya\\nFedorovna</span>. With these words she greeted <span class=\"green\">Prince Vasili Kuragin</span>, a man\\nof high rank and importance, who was the first to arrive at her\\nreception. <span class=\"green\">Anna Pavlovna</span> had had a cough for some days. She was, as\\nshe said, suffering from la grippe; grippe being then a new word in\\n<span class=\"green\">St. Petersburg</span>, used only by the elite.\\n<p/>\\nAll her invitations without exception, written in French, and\\ndelivered by a scarlet-liveried footman that morning, ran as follows:\\n<p/>\\n\"<span class=\"red\">If you have nothing better to do, Count [or Prince], and if the\\nprospect of spending an evening with a poor invalid is not too\\nterrible, I shall be very charmed to see you tonight between 7 and 10-\\nAnnette Scherer.</span>\"\\n<p/>\\n\"<span class=\"red\">Heavens! what a virulent attack!</span>\" replied <span class=\"green\">the prince</span>, not in the\\nleast disconcerted by this reception. He had just entered, wearing\\nan embroidered court uniform, knee breeches, and shoes, and had\\nstars on his breast and a serene expression on his flat face. He spoke\\nin that refined French in which our grandfathers not only spoke but\\nthought, and with the gentle, patronizing intonation natural to a\\nman of importance who had grown old in society and at court. He went\\nup to <span class=\"green\">Anna Pavlovna</span>, kissed her hand, presenting to her his bald,\\nscented, and shining head, and complacently seated himself on the\\nsofa.\\n<p/>\\n\"<span class=\"red\">First of all, dear friend, tell me how you are. Set your friend\\'s\\nmind at rest,</span>\" said he without altering his tone, beneath the\\npoliteness and affected sympathy of which indifference and even\\nirony could be discerned.\\n<p/>\\n\"<span class=\"red\">Can one be well while suffering morally? Can one be calm in times\\nlike these if one has any feeling?</span>\" said <span class=\"green\">Anna Pavlovna</span>. \"<span class=\"red\">You are\\nstaying the whole evening, I hope?</span>\"\\n<p/>\\n\"<span class=\"red\">And the fete at the English ambassador\\'s? Today is Wednesday. I\\nmust put in an appearance there,</span>\" said <span class=\"green\">the prince</span>. \"<span class=\"red\">My daughter is\\ncoming for me to take me there.</span>\"\\n<p/>\\n\"<span class=\"red\">I thought today\\'s fete had been canceled. I confess all these\\nfestivities and fireworks are becoming wearisome.</span>\"\\n<p/>\\n\"<span class=\"red\">If they had known that you wished it, the entertainment would\\nhave been put off,</span>\" said <span class=\"green\">the prince</span>, who, like a wound-up clock, by\\nforce of habit said things he did not even wish to be believed.\\n<p/>\\n\"<span class=\"red\">Don\\'t tease! Well, and what has been decided about Novosiltsev\\'s\\ndispatch? You know everything.</span>\"\\n<p/>\\n\"<span class=\"red\">What can one say about it?</span>\" replied <span class=\"green\">the prince</span> in a cold,\\nlistless tone. \"<span class=\"red\">What has been decided? They have decided that\\nBuonaparte has burnt his boats, and I believe that we are ready to\\nburn ours.</span>\"\\n<p/>\\n<span class=\"green\">Prince Vasili</span> always spoke languidly, like an actor repeating a\\nstale part. <span class=\"green\">Anna Pavlovna</span> Scherer on the contrary, despite her forty\\nyears, overflowed with animation and impulsiveness. To be an\\nenthusiast had become her social vocation and, sometimes even when she\\ndid not feel like it, she became enthusiastic in order not to\\ndisappoint the expectations of those who knew her. The subdued smile\\nwhich, though it did not suit her faded features, always played\\nround her lips expressed, as in a spoiled child, a continual\\nconsciousness of her charming defect, which she neither wished, nor\\ncould, nor considered it necessary, to correct.\\n<p/>\\nIn the midst of a conversation on political matters <span class=\"green\">Anna Pavlovna</span>\\nburst out:\\n<p/>\\n\"<span class=\"red\">Oh, don\\'t speak to me of Austria. Perhaps I don\\'t understand\\nthings, but Austria never has wished, and does not wish, for war.\\nShe is betraying us! Russia alone must save Europe. Our gracious\\nsovereign recognizes his high vocation and will be true to it. That is\\nthe one thing I have faith in! Our good and wonderful sovereign has to\\nperform the noblest role on earth, and he is so virtuous and noble\\nthat God will not forsake him. He will fulfill his vocation and\\ncrush the hydra of revolution, which has become more terrible than\\never in the person of this murderer and villain! We alone must\\navenge the blood of the just one.... Whom, I ask you, can we rely\\non?... England with her commercial spirit will not and cannot\\nunderstand the Emperor Alexander\\'s loftiness of soul. She has\\nrefused to evacuate Malta. She wanted to find, and still seeks, some\\nsecret motive in our actions. What answer did Novosiltsev get? None.\\nThe English have not understood and cannot understand the\\nself-abnegation of our Emperor who wants nothing for himself, but only\\ndesires the good of mankind. And what have they promised? Nothing! And\\nwhat little they have promised they will not perform! Prussia has\\nalways declared that Buonaparte is invincible, and that all Europe\\nis powerless before him.... And I don\\'t believe a word that Hardenburg\\nsays, or Haugwitz either. This famous Prussian neutrality is just a\\ntrap. I have faith only in God and the lofty destiny of our adored\\nmonarch. He will save Europe!</span>\"\\n<p/>\\nShe suddenly paused, smiling at her own impetuosity.\\n<p/>\\n\"<span class=\"red\">I think,</span>\" said <span class=\"green\">the prince</span> with a smile, \"<span class=\"red\">that if you had been\\nsent instead of our dear <span class=\"green\">Wintzingerode</span> you would have captured the\\n<span class=\"green\">King of Prussia</span>\\'s consent by assault. You are so eloquent. Will you\\ngive me a cup of tea?</span>\"\\n<p/>\\n\"<span class=\"red\">In a moment. A propos,</span>\" she added, becoming calm again, \"<span class=\"red\">I am\\nexpecting two very interesting men tonight, <span class=\"green\">le Vicomte de Mortemart</span>,\\nwho is connected with the <span class=\"green\">Montmorencys</span> through the <span class=\"green\">Rohans</span>, one of\\nthe best French families. He is one of the genuine emigres, the good\\nones. And also the <span class=\"green\">Abbe Morio</span>. Do you know that profound thinker? He\\nhas been received by <span class=\"green\">the Emperor</span>. Had you heard?</span>\"\\n<p/>\\n\"<span class=\"red\">I shall be delighted to meet them,</span>\" said <span class=\"green\">the prince</span>. \"<span class=\"red\">But tell me,</span>\"\\nhe added with studied carelessness as if it had only just occurred\\nto him, though the question he was about to ask was the chief motive\\nof his visit, \"<span class=\"red\">is it true that the Dowager Empress wants Baron Funke\\nto be appointed first secretary at Vienna? The baron by all accounts\\nis a poor creature.</span>\"\\n<p/>\\n<span class=\"green\">Prince Vasili</span> wished to obtain this post for his son, but others\\nwere trying through the <span class=\"green\">Dowager Empress Marya Fedorovna</span> to secure it\\nfor <span class=\"green\">the baron</span>.\\n<p/>\\n<span class=\"green\">Anna Pavlovna</span> almost closed her eyes to indicate that neither she\\nnor anyone else had a right to criticize what <span class=\"green\">the Empress</span> desired or\\nwas pleased with.\\n<p/>\\n\"<span class=\"red\">Baron Funke has been recommended to the Dowager Empress by her\\nsister,</span>\" was all she said, in a dry and mournful tone.\\n<p/>\\nAs she named <span class=\"green\">the Empress</span>, <span class=\"green\">Anna Pavlovna\\'s</span> face suddenly assumed an\\nexpression of profound and sincere devotion and respect mingled with\\nsadness, and this occurred every time she mentioned her illustrious\\npatroness. She added that <span class=\"green\">Her Majesty</span> had deigned to show <span class=\"green\">Baron\\nFunke</span>, and again her face clouded over with sadness.\\n<p/>\\n<span class=\"green\">The prince</span> was silent and looked indifferent. But, with the\\nwomanly and courtierlike quickness and tact habitual to her, <span class=\"green\">Anna\\nPavlovna</span> wished both to rebuke him (for daring to speak he had done of\\na man recommended to <span class=\"green\">the Empress</span>) and at the same time to console him,\\nso she said:\\n<p/>\\n\"<span class=\"red\">Now about your family. Do you know that since your daughter came\\nout everyone has been enraptured by her? They say she is amazingly\\nbeautiful.</span>\"\\n<p/>\\n<span class=\"green\">The prince</span> bowed to signify his respect and gratitude.\\n<p/>\\n\"<span class=\"red\">I often think,</span>\" she continued after a short pause, drawing nearer\\nto the prince and smiling amiably at him as if to show that\\npolitical and social topics were ended and the time had come for\\nintimate conversation- \"<span class=\"red\">I often think how unfairly sometimes the\\njoys of life are distributed. Why has fate given you two such splendid\\nchildren? I don\\'t speak of <span class=\"green\">Anatole</span>, your youngest. I don\\'t like\\nhim,</span>\" she added in a tone admitting of no rejoinder and raising her\\neyebrows. \"<span class=\"red\">Two such charming children. And really you appreciate\\nthem less than anyone, and so you don\\'t deserve to have them.</span>\"\\n<p/>\\nAnd she smiled her ecstatic smile.\\n<p/>\\n\"<span class=\"red\">I can\\'t help it,</span>\" said <span class=\"green\">the prince</span>. \"<span class=\"red\">Lavater would have said I\\nlack the bump of paternity.</span>\"\\n<p/>\\n\"<span class=\"red\">Don\\'t joke; I mean to have a serious talk with you. Do you know I\\nam dissatisfied with your younger son? Between ourselves</span>\" (and her\\nface assumed its melancholy expression), \"<span class=\"red\">he was mentioned at Her\\nMajesty\\'s and you were pitied....</span>\"\\n<p/>\\n<span class=\"green\">The prince</span> answered nothing, but she looked at him significantly,\\nawaiting a reply. He frowned.\\n<p/>\\n\"<span class=\"red\">What would you have me do?</span>\" he said at last. \"<span class=\"red\">You know I did all\\na father could for their education, and they have both turned out\\nfools. Hippolyte is at least a quiet fool, but Anatole is an active\\none. That is the only difference between them.</span>\" He said this smiling\\nin a way more natural and animated than usual, so that the wrinkles\\nround his mouth very clearly revealed something unexpectedly coarse\\nand unpleasant.\\n<p/>\\n\"<span class=\"red\">And why are children born to such men as you? If you were not a\\nfather there would be nothing I could reproach you with,</span>\" said <span class=\"green\">Anna\\nPavlovna</span>, looking up pensively.\\n<p/>\\n\"<span class=\"red\">I am your faithful slave and to you alone I can confess that my\\nchildren are the bane of my life. It is the cross I have to bear. That\\nis how I explain it to myself. It can\\'t be helped!</span>\"\\n<p/>\\nHe said no more, but expressed his resignation to cruel fate by a\\ngesture. <span class=\"green\">Anna Pavlovna</span> meditated.\\n</div>\\n</body>\\n</html>\\n'"
      ]
     },
     "execution_count": 1,
     "metadata": {},
     "output_type": "execute_result"
    }
   ],
   "source": [
    "import requests #發送請求\n",
    "res = requests.get(\"http://pythonscraping.com/pages/warandpeace.html\")\n",
    "#<Response [200]> -> 發送請求成功 像404(網頁不存在)、401(網頁存在但你沒權限瀏覽)那樣，5**代表伺服器那頭發生問題\n",
    "res.text"
   ]
  },
  {
   "cell_type": "code",
   "execution_count": 2,
   "metadata": {},
   "outputs": [
    {
     "data": {
      "text/plain": [
       "'Anna Pavlovna Scherer'"
      ]
     },
     "execution_count": 2,
     "metadata": {},
     "output_type": "execute_result"
    }
   ],
   "source": [
    "from bs4 import BeautifulSoup\n",
    "html = BeautifulSoup(res.text,\"html.parser\") #用HTML的形式去解析->做一個整理\n",
    "name_list = html.findAll(\"span\", {\"class\":\"green\"})#取得綠色的字\n",
    "tag = name_list[0]\n",
    "tag.text.replace(\"\\n\",\" \")"
   ]
  },
  {
   "cell_type": "code",
   "execution_count": 3,
   "metadata": {},
   "outputs": [
    {
     "name": "stdout",
     "output_type": "stream",
     "text": [
      "Anna Pavlovna Scherer\n",
      "Empress Marya Fedorovna\n",
      "Prince Vasili Kuragin\n",
      "Anna Pavlovna\n",
      "St. Petersburg\n",
      "the prince\n",
      "Anna Pavlovna\n",
      "Anna Pavlovna\n",
      "the prince\n",
      "the prince\n",
      "the prince\n",
      "Prince Vasili\n",
      "Anna Pavlovna\n",
      "Anna Pavlovna\n",
      "the prince\n",
      "Wintzingerode\n",
      "King of Prussia\n",
      "le Vicomte de Mortemart\n",
      "Montmorencys\n",
      "Rohans\n",
      "Abbe Morio\n",
      "the Emperor\n",
      "the prince\n",
      "Prince Vasili\n",
      "Dowager Empress Marya Fedorovna\n",
      "the baron\n",
      "Anna Pavlovna\n",
      "the Empress\n",
      "the Empress\n",
      "Anna Pavlovna's\n",
      "Her Majesty\n",
      "Baron Funke\n",
      "The prince\n",
      "Anna Pavlovna\n",
      "the Empress\n",
      "The prince\n",
      "Anatole\n",
      "the prince\n",
      "The prince\n",
      "Anna Pavlovna\n",
      "Anna Pavlovna\n"
     ]
    },
    {
     "data": {
      "text/plain": [
       "['Anna Pavlovna Scherer',\n",
       " 'Empress Marya Fedorovna',\n",
       " 'Prince Vasili Kuragin',\n",
       " 'Anna Pavlovna',\n",
       " 'St. Petersburg',\n",
       " 'the prince',\n",
       " 'Anna Pavlovna',\n",
       " 'Anna Pavlovna',\n",
       " 'the prince',\n",
       " 'the prince',\n",
       " 'the prince',\n",
       " 'Prince Vasili',\n",
       " 'Anna Pavlovna',\n",
       " 'Anna Pavlovna',\n",
       " 'the prince',\n",
       " 'Wintzingerode',\n",
       " 'King of Prussia',\n",
       " 'le Vicomte de Mortemart',\n",
       " 'Montmorencys',\n",
       " 'Rohans',\n",
       " 'Abbe Morio',\n",
       " 'the Emperor',\n",
       " 'the prince',\n",
       " 'Prince Vasili',\n",
       " 'Dowager Empress Marya Fedorovna',\n",
       " 'the baron',\n",
       " 'Anna Pavlovna',\n",
       " 'the Empress',\n",
       " 'the Empress',\n",
       " \"Anna Pavlovna's\",\n",
       " 'Her Majesty',\n",
       " 'Baron Funke',\n",
       " 'The prince',\n",
       " 'Anna Pavlovna',\n",
       " 'the Empress',\n",
       " 'The prince',\n",
       " 'Anatole',\n",
       " 'the prince',\n",
       " 'The prince',\n",
       " 'Anna Pavlovna',\n",
       " 'Anna Pavlovna']"
      ]
     },
     "execution_count": 3,
     "metadata": {},
     "output_type": "execute_result"
    }
   ],
   "source": [
    "#method 1\n",
    "for tag in name_list:\n",
    "    print(tag.text.replace(\"\\n\",\" \"))\n",
    "#method 2\n",
    "[tag.text.replace(\"\\n\",\" \") for tag in name_list]"
   ]
  },
  {
   "cell_type": "markdown",
   "metadata": {
    "colab_type": "text",
    "id": "Glgijf4iNP83"
   },
   "source": [
    "## 另外再介紹一下 find() 方法...\n",
    "\n",
    "```python\n",
    "from bs4 import BeautifulSoup\n",
    "import requests\n",
    "\n",
    "res = requests.get(\"http://pythonscraping.com/pages/warandpeace.html\")\n",
    "html = BeautifulSoup(res.text, 'html.parser')\n",
    "# 我們把該網頁使用 'green' css 類別的 span 標簽過濾出來...\n",
    "name = html.find(\"span\", {\"class\": \"green\"})\n",
    "print(name)\n",
    "```"
   ]
  },
  {
   "cell_type": "code",
   "execution_count": null,
   "metadata": {
    "colab": {},
    "colab_type": "code",
    "id": "OXHpzZlHNP85",
    "scrolled": true
   },
   "outputs": [],
   "source": []
  },
  {
   "cell_type": "markdown",
   "metadata": {
    "colab_type": "text",
    "id": "Sm9rAp3PNP89"
   },
   "source": [
    "## findAll() vs find()\n",
    "\n",
    "`findAll()` 是找出**所有**符合條件的標簽\n",
    "\n",
    "`find()` 是找到**第一筆**符合條件的資料"
   ]
  },
  {
   "cell_type": "markdown",
   "metadata": {
    "colab_type": "text",
    "id": "zyArZIqTNP8-"
   },
   "source": [
    "# 網頁爬蟲實戰：(臺股爬蟲)\n",
    "\n",
    "我們想要截取資料的網頁：[Yahoo Stock 台積電](https://tw.stock.yahoo.com/q/q?s=2330)\n",
    "\n",
    "![](https://drive.google.com/uc?export=download&id=1samMUBW19ooC7UsntphFGG6QKjL5337R)\n",
    "\n",
    "網址是：\n",
    "\n",
    "https://tw.stock.yahoo.com/q/q?s=2330\n",
    "\n",
    "```python\n",
    "# 來試試看爬 yahoo stock 的網頁...\n",
    "from bs4 import BeautifulSoup\n",
    "import requests\n",
    "\n",
    "res = requests.get('https://tw.stock.yahoo.com/q/q?s=2330')\n",
    "# 用 html 格式解碼 爬下來的檔案\n",
    "html = BeautifulSoup(res.text, 'html.parser')\n",
    "print(html)\n",
    "```\n"
   ]
  },
  {
   "cell_type": "code",
   "execution_count": 4,
   "metadata": {
    "colab": {},
    "colab_type": "code",
    "id": "TxK2DxaPNP8_",
    "scrolled": true
   },
   "outputs": [
    {
     "data": {
      "text/plain": [
       "'326.5'"
      ]
     },
     "execution_count": 4,
     "metadata": {},
     "output_type": "execute_result"
    }
   ],
   "source": [
    "from bs4 import BeautifulSoup\n",
    "import requests\n",
    "\n",
    "res = requests.get(\"https://tw.stock.yahoo.com/q/q?s=2330\")\n",
    "html = BeautifulSoup(res.text, \"html.parser\")\n",
    "table = html.findAll(\"table\", {\"border\":\"2\"})[0]\n",
    "table_row = table.findAll(\"tr\")[1]\n",
    "tds = table_row.findAll(\"td\")\n",
    "last_close = tds[7].text\n",
    "last_close"
   ]
  },
  {
   "cell_type": "markdown",
   "metadata": {
    "colab_type": "text",
    "id": "TNIIkoriNP9C"
   },
   "source": [
    "# 問題是找到有用的資料如同大海撈針...\n",
    "\n",
    "---\n",
    "## 分析一下我們要爬的網頁\n",
    "\n",
    "收盤價是被封裝在一個 **table** 標籤内部的一個 **td** 標籤\n",
    "\n",
    "\n",
    "---\n",
    "## table 標籤\n",
    "\n",
    "一般網頁若要呈現重要的資訊，都會將資訊以網頁表格的形式呈現\n",
    "\n",
    "今天若要利用 **html** 實作網頁上的表格，需要名爲 **table** 的標籤\n",
    "\n",
    "換句話説，今天網頁上我們有興趣的資料，十之八九都是被封裝在 **table** 底下\n",
    "\n",
    "把 **table** 的結構搞懂，就成了一件重要的事情。\n",
    "\n",
    "---\n",
    "# html table 標簽的結構\n",
    "\n",
    "網頁上的資料大多都是匯整在表格、而 html 的表格則是由 table 標簽構成的：\n",
    "\n",
    "![](https://drive.google.com/uc?export=download&id=1dmYx5qOD21tPWHATzIm6IxDnfO96sUac)\n",
    "\n",
    "該 **table** 標籤内有兩個 **tr** 標簽\n",
    "\n",
    "第二個 tr 標籤内的第八個 td 標簽是我們要的收盤價\n",
    "\n",
    "![](https://drive.google.com/uc?export=download&id=109M71HQtR-kfZMklVit7AZRpIH4zhfe_)\n",
    "\n",
    "---\n",
    "# html 標簽的關聯\n",
    "\n",
    "簡單來説，就是一個樹狀圖的概念：\n",
    "\n",
    "![](https://drive.google.com/uc?export=download&id=1n2yZlQtj7EK2_NNIBXvEVGeEKBogfgYZ)\n",
    "\n",
    "---\n",
    "# 延申閲讀\n",
    "\n",
    "HTML Table 教學\n",
    "\n",
    "w3 school： [連結](https://www.w3schools.com/html/html_tables.asp)\n",
    "\n",
    "Mozilla：[連結](https://developer.mozilla.org/zh-TW/docs/Web/HTML/Element/table)\n",
    "\n",
    "---"
   ]
  },
  {
   "cell_type": "markdown",
   "metadata": {
    "colab_type": "text",
    "id": "sFh0F2spNP9D"
   },
   "source": [
    "## 開始實作台股爬蟲\n",
    "\n",
    "```python\n",
    "from bs4 import BeautifulSoup\n",
    "import requests\n",
    "\n",
    "res = requests.get('https://tw.stock.yahoo.com/q/q?s=2330')\n",
    "html = BeautifulSoup(res.text, 'html.parser')\n",
    "# 搜尋整個網頁裡的 table 標籤，將所有的表格讀取出來\n",
    "html.findAll(\"table\")\n",
    "# 我們就發現 table 可能過多了...\n",
    "```"
   ]
  },
  {
   "cell_type": "code",
   "execution_count": null,
   "metadata": {
    "colab": {},
    "colab_type": "code",
    "id": "KBGjdatZNP9E"
   },
   "outputs": [],
   "source": []
  },
  {
   "cell_type": "markdown",
   "metadata": {
    "colab_type": "text",
    "id": "59hS4xnVaDCE"
   },
   "source": [
    "## 檢查所有搜尋到的 table\n",
    "\n",
    "仔細觀察一下，我們發現目標 table 的 **border** 屬性是被設定成 **2**\n",
    "\n",
    "因此我們可以將程式碼修改爲...\n",
    "\n",
    "```python\n",
    "table = html.findAll(\"table\", { \"border\": 2 })[0]\n",
    "table\n",
    "```"
   ]
  },
  {
   "cell_type": "code",
   "execution_count": null,
   "metadata": {
    "colab": {},
    "colab_type": "code",
    "id": "KUQ9ViEONP9H"
   },
   "outputs": [],
   "source": []
  },
  {
   "cell_type": "markdown",
   "metadata": {
    "colab_type": "text",
    "id": "-lsT3W1eaDCJ"
   },
   "source": [
    "## 找尋 table 裡第二個 tr 標籤內所有的 td 標籤\n",
    "\n",
    "```python\n",
    "table_row = table.findAll(\"tr\")[1]\n",
    "tds = table_row.findAll(\"td\")\n",
    "tds\n",
    "```"
   ]
  },
  {
   "cell_type": "code",
   "execution_count": null,
   "metadata": {
    "colab": {},
    "colab_type": "code",
    "id": "W3vcd7soaDCK"
   },
   "outputs": [],
   "source": []
  },
  {
   "cell_type": "markdown",
   "metadata": {
    "colab_type": "text",
    "id": "a6onuMQwaDCQ"
   },
   "source": [
    "## 讀取出昨日收盤價\n",
    "\n",
    "```python\n",
    "last_close = tds[7].text\n",
    "print(f\"台積電今日收盤價：${last_close}\")\n",
    "```"
   ]
  },
  {
   "cell_type": "code",
   "execution_count": null,
   "metadata": {
    "colab": {},
    "colab_type": "code",
    "id": "4KSpFBzTaDCS"
   },
   "outputs": [],
   "source": []
  },
  {
   "cell_type": "markdown",
   "metadata": {
    "colab_type": "text",
    "id": "BSeetJ4YaDCV"
   },
   "source": [
    "## 完成版網頁爬蟲\n",
    "\n",
    "```python\n",
    "from bs4 import BeautifulSoup\n",
    "import requests\n",
    "\n",
    "res = requests.get('https://tw.stock.yahoo.com/q/q?s=2330')\n",
    "html = BeautifulSoup(res.text, 'html.parser')\n",
    "table = html.findAll(\"table\", { \"border\": 2 })[0]\n",
    "# 找尋 table 裡第二個 tr 標籤內所有的 td 標籤\n",
    "table_row = table.findAll(\"tr\")[1]\n",
    "tds = table_row.findAll(\"td\")\n",
    "# 選取該 row 第八個 td 標籤，擷取標籤內文字\n",
    "last_close = tds[7].text\n",
    "print(f\"台積電昨日收盤價：${last_close}\")\n",
    "```"
   ]
  },
  {
   "cell_type": "code",
   "execution_count": null,
   "metadata": {
    "colab": {},
    "colab_type": "code",
    "id": "xrGlPvDlNP9V"
   },
   "outputs": [],
   "source": []
  },
  {
   "cell_type": "markdown",
   "metadata": {
    "colab_type": "text",
    "id": "nHafy1EYNP9Y"
   },
   "source": [
    "## 解法二\n",
    "\n",
    "\n",
    "```python\n",
    "from bs4 import BeautifulSoup\n",
    "import requests\n",
    "\n",
    "doc = requests.get('https://tw.stock.yahoo.com/q/q?s=2330')\n",
    "html = BeautifulSoup(doc.text, 'html.parser')\n",
    "# 搜尋整個網頁裡，內容為 '個股資料' 的 html 標籤, 關聯到 table 最外層\n",
    "table = html.findAll(text='個股資料')[0].parent.parent.parent\n",
    "# 找尋 table 裡第二個 tr 標籤內所有的 td 標籤\n",
    "data_row = table.findAll('tr')[1].findAll('td')\n",
    "# 選取該 row 第八個 td 標籤，擷取標籤內文字\n",
    "last_price = data_row[7].text\n",
    "print(f\"台積電昨日收盤價：${last_close}\")\n",
    "```"
   ]
  },
  {
   "cell_type": "code",
   "execution_count": 5,
   "metadata": {
    "colab": {},
    "colab_type": "code",
    "id": "4Y9gY6DEaDCf"
   },
   "outputs": [
    {
     "name": "stdout",
     "output_type": "stream",
     "text": [
      "台積電昨日收盤價：$326.5\n"
     ]
    }
   ],
   "source": [
    "from bs4 import BeautifulSoup\n",
    "import requests\n",
    "\n",
    "res = requests.get(\"https://tw.stock.yahoo.com/q/q?s=2330\")\n",
    "html = BeautifulSoup(res.text, \"html.parser\")\n",
    "txt = html.findAll(text = \"個股資料\")[0]\n",
    "txt.parent.parent.parent #封裝個股資料的標籤\n",
    "table_row = table.findAll(\"tr\")[1]\n",
    "tds = table_row.findAll(\"td\")\n",
    "last_close = tds[7].text\n",
    "\n",
    "print(f\"台積電昨日收盤價：${last_close}\")"
   ]
  },
  {
   "cell_type": "markdown",
   "metadata": {
    "colab_type": "text",
    "id": "z74jEMrYNP9a"
   },
   "source": [
    "## 解法三...\n",
    "\n",
    "![](https://drive.google.com/uc?export=download&id=1IJp5dze4stcwni0FNs2ThIjzYM_vYp4o)\n",
    "\n",
    "注意 **tt** 是一個獨特的 css class，而 **tt** 只有被套用在最後一個 **td** 標籤上\n",
    "\n",
    "```python\n",
    "from bs4 import BeautifulSoup\n",
    "import requests\n",
    "\n",
    "doc = requests.get('https://tw.stock.yahoo.com/q/q?s=2330')\n",
    "html = BeautifulSoup(doc.text, 'html.parser')\n",
    "# 尋找 class 屬性為 tt 的 td 標籤\n",
    "last_td = html.find(\"td\", {\"class\": \"tt\"})\n",
    "# find_previous_sibling('td') 代表尋找前一個 (左邊) td 標籤\n",
    "last_close = last_td.find_previous_sibling('td').find_previous_sibling('td').find_previous_sibling('td').find_previous_sibling('td').text\n",
    "print(f\"台積電昨日收盤價：${last_close}\")\n",
    "```"
   ]
  },
  {
   "cell_type": "code",
   "execution_count": 6,
   "metadata": {
    "colab": {},
    "colab_type": "code",
    "id": "T83NABz0NP9b"
   },
   "outputs": [
    {
     "data": {
      "text/plain": [
       "'326.5'"
      ]
     },
     "execution_count": 6,
     "metadata": {},
     "output_type": "execute_result"
    }
   ],
   "source": [
    "from bs4 import BeautifulSoup\n",
    "import requests\n",
    "\n",
    "doc = requests.get('https://tw.stock.yahoo.com/q/q?s=2330')\n",
    "html = BeautifulSoup(doc.text, 'html.parser')\n",
    "# 尋找 class 屬性為 tt 的 td 標籤\n",
    "last_td = html.find(\"td\", {\"class\": \"tt\"})\n",
    "last_td.find_previous_sibling('td').find_previous_sibling('td').find_previous_sibling('td').find_previous_sibling('td').text"
   ]
  },
  {
   "cell_type": "markdown",
   "metadata": {
    "colab_type": "text",
    "id": "bPEdH8H-NP9g"
   },
   "source": [
    "## 隨堂練習\n",
    "\n",
    "請試試看從 Yahoo 股市網頁將 2330 的**開盤價、最高價、與最低價、以及成交價**讀取出來：\n",
    "\n",
    "```python\n",
    "from bs4 import BeautifulSoup\n",
    "import requests\n",
    "\n",
    "res = requests.get('https://tw.stock.yahoo.com/q/q?s=2330')\n",
    "html = BeautifulSoup(res.text, 'html.parser')\n",
    "table = html.findAll(\"table\", { \"border\": 2 })[0]\n",
    "# 找尋 table 裡第二個 tr 標籤內所有的 td 標籤\n",
    "table_row = table.findAll(\"tr\")[1]\n",
    "tds = table_row.findAll(\"td\")\n",
    "# 選取該 row 第八個 td 標籤，擷取標籤內文字\n",
    "last_close = tds[7].text\n",
    "open_price = ________________\n",
    "high_price = ________________\n",
    "low_price = ________________\n",
    "close_price = ________________\n",
    "```"
   ]
  },
  {
   "cell_type": "code",
   "execution_count": 7,
   "metadata": {},
   "outputs": [
    {
     "data": {
      "text/plain": [
       "[<td align=\"center\" width=\"105\"><a href=\"/q/bc?s=2330\">2330台積電</a><br/><a href=\"/pf/pfsel?stocklist=2330;\"><font size=\"-1\">加到投資組合</font><br/></a></td>,\n",
       " <td align=\"center\" bgcolor=\"#FFFfff\" nowrap=\"\">12:08</td>,\n",
       " <td align=\"center\" bgcolor=\"#FFFfff\" nowrap=\"\"><b>325.0</b></td>,\n",
       " <td align=\"center\" bgcolor=\"#FFFfff\" nowrap=\"\">325.0</td>,\n",
       " <td align=\"center\" bgcolor=\"#FFFfff\" nowrap=\"\">325.5</td>,\n",
       " <td align=\"center\" bgcolor=\"#FFFfff\" nowrap=\"\"><font color=\"#009900\">▽1.5\n",
       "                 <td align=\"center\" bgcolor=\"#FFFfff\" nowrap=\"\">19,430</td>\n",
       " <td align=\"center\" bgcolor=\"#FFFfff\" nowrap=\"\">326.5</td>\n",
       " <td align=\"center\" bgcolor=\"#FFFfff\" nowrap=\"\">328.0</td>\n",
       " <td align=\"center\" bgcolor=\"#FFFfff\" nowrap=\"\">329.0</td>\n",
       " <td align=\"center\" bgcolor=\"#FFFfff\" nowrap=\"\">325.0</td>\n",
       " <td align=\"center\" class=\"tt\" width=\"137\">\n",
       " <a href=\"/q/ts?s=2330\">成交明細</a><br/><a href=\"/q/ta?s=2330\">技術</a>　<a href=\"/q/h?s=2330\">新聞</a><a href=\"/d/s/company_2330.html\"><br/>基本</a>　<a href=\"/d/s/credit_2330.html\">籌碼</a><a href=\"https://tw.rd.yahoo.com/referurl/stock/other/SIG=125v47s73/**https://tw.screener.finance.yahoo.net/screener/check.html?symid=2330\" style=\"color:red\" target=\"_blank\"><br/>個股健診</a></td></font></td>,\n",
       " <td align=\"center\" bgcolor=\"#FFFfff\" nowrap=\"\">19,430</td>,\n",
       " <td align=\"center\" bgcolor=\"#FFFfff\" nowrap=\"\">326.5</td>,\n",
       " <td align=\"center\" bgcolor=\"#FFFfff\" nowrap=\"\">328.0</td>,\n",
       " <td align=\"center\" bgcolor=\"#FFFfff\" nowrap=\"\">329.0</td>,\n",
       " <td align=\"center\" bgcolor=\"#FFFfff\" nowrap=\"\">325.0</td>,\n",
       " <td align=\"center\" class=\"tt\" width=\"137\">\n",
       " <a href=\"/q/ts?s=2330\">成交明細</a><br/><a href=\"/q/ta?s=2330\">技術</a>　<a href=\"/q/h?s=2330\">新聞</a><a href=\"/d/s/company_2330.html\"><br/>基本</a>　<a href=\"/d/s/credit_2330.html\">籌碼</a><a href=\"https://tw.rd.yahoo.com/referurl/stock/other/SIG=125v47s73/**https://tw.screener.finance.yahoo.net/screener/check.html?symid=2330\" style=\"color:red\" target=\"_blank\"><br/>個股健診</a></td>]"
      ]
     },
     "execution_count": 7,
     "metadata": {},
     "output_type": "execute_result"
    }
   ],
   "source": [
    "from bs4 import BeautifulSoup\n",
    "import requests\n",
    "\n",
    "res = requests.get(\"https://tw.stock.yahoo.com/q/q?s=2330\")\n",
    "html = BeautifulSoup(res.text, \"html.parser\")\n",
    "table = html.findAll(\"table\", {\"border\":\"2\"})[0]\n",
    "table_row = table.findAll(\"tr\")[1]\n",
    "tds = table_row.findAll(\"td\")\n",
    "tds"
   ]
  },
  {
   "cell_type": "code",
   "execution_count": 8,
   "metadata": {
    "colab": {},
    "colab_type": "code",
    "id": "zlFWh49oNP9g"
   },
   "outputs": [
    {
     "data": {
      "text/plain": [
       "('326.5', '328.0', '329.0', '325.0', '325.0')"
      ]
     },
     "execution_count": 8,
     "metadata": {},
     "output_type": "execute_result"
    }
   ],
   "source": [
    "from bs4 import BeautifulSoup\n",
    "import requests\n",
    "\n",
    "res = requests.get('https://tw.stock.yahoo.com/q/q?s=2330')\n",
    "html = BeautifulSoup(res.text, 'html.parser')\n",
    "table = html.findAll(\"table\", { \"border\": 2 })[0]\n",
    "# 找尋 table 裡第二個 tr 標籤內所有的 td 標籤\n",
    "table_row = table.findAll(\"tr\")[1]\n",
    "tds = table_row.findAll(\"td\")\n",
    "# 選取該 row 第八個 td 標籤，擷取標籤內文字\n",
    "last_close = tds[7].text\n",
    "open_price = tds[8].text\n",
    "high_price = tds[9].text\n",
    "low_price = tds[10].text\n",
    "close_price = tds[2].text\n",
    "\n",
    "last_close ,open_price,high_price ,low_price ,close_price "
   ]
  },
  {
   "cell_type": "markdown",
   "metadata": {
    "colab_type": "text",
    "id": "lvX3ORI1NP9i"
   },
   "source": [
    "## 將結果寫入 Excel\n",
    "\n",
    "用 xlwings 開啓 **tw_stock_portfolio.xlsx**：\n",
    "\n",
    "```python\n",
    "import xlwings as xw\n",
    "import time\n",
    "\n",
    "wb = xw.Book(r\"tw_stock_portfolio.xlsx\")\n",
    "sheet = wb.sheets[\"TW2330\"]\n",
    "```\n",
    "\n",
    "偵測最後一個 row:\n",
    "\n",
    "```python\n",
    "last_row = sheet.range(\"A1\").end(\"down\").row\n",
    "```"
   ]
  },
  {
   "cell_type": "code",
   "execution_count": 9,
   "metadata": {
    "colab": {},
    "colab_type": "code",
    "id": "zcThVQ8XNP9j"
   },
   "outputs": [],
   "source": [
    "import xlwings as xw\n",
    "import time\n",
    "\n",
    "wb = xw.Book(r\"tw_stock_portfolio.xlsx\")\n",
    "sheet = wb.sheets[\"TW2330\"]\n",
    "#偵測最後一行行數多少\n",
    "last_row = sheet.range(\"A1\").end(\"down\").row\n",
    "\n",
    "#sheet.range(\"B195\").value = close_price\n",
    "#sheet.range(\"A195\").value = time.strftime(\"%Y/%m/%d\")\n",
    "#寫入的地方不能被寫死!!! 因為這樣更新的話資料會被覆蓋\n",
    "\n",
    "sheet.range(f\"B{last_row+1}\").value = close_price\n",
    "sheet.range(f\"A{last_row+1}\").value = time.strftime(\"%Y/%m/%d\")"
   ]
  },
  {
   "cell_type": "code",
   "execution_count": null,
   "metadata": {},
   "outputs": [],
   "source": []
  },
  {
   "cell_type": "code",
   "execution_count": 10,
   "metadata": {},
   "outputs": [],
   "source": [
    "last_row = sheet.range(\"A1\").end(\"down\").row"
   ]
  },
  {
   "cell_type": "markdown",
   "metadata": {
    "colab_type": "text",
    "id": "TcvNEFsnNP9l"
   },
   "source": [
    "## 產生格式化的時間字串\n",
    "\n",
    "```python\n",
    "import time\n",
    "\n",
    "time.strftime(\"%Y/%m/%d\")\n",
    "```"
   ]
  },
  {
   "cell_type": "code",
   "execution_count": 11,
   "metadata": {},
   "outputs": [
    {
     "data": {
      "text/plain": [
       "'abc123'"
      ]
     },
     "execution_count": 11,
     "metadata": {},
     "output_type": "execute_result"
    }
   ],
   "source": [
    "i= 123\n",
    "\"abc%i\" %i  #格式化輸出"
   ]
  },
  {
   "cell_type": "code",
   "execution_count": 12,
   "metadata": {
    "colab": {},
    "colab_type": "code",
    "id": "cb1Lg6kVNP9n"
   },
   "outputs": [
    {
     "data": {
      "text/plain": [
       "'2020/02/20'"
      ]
     },
     "execution_count": 12,
     "metadata": {},
     "output_type": "execute_result"
    }
   ],
   "source": [
    "import time\n",
    "\n",
    "time.strftime(\"%Y/%m/%d\") #->年月日"
   ]
  },
  {
   "cell_type": "markdown",
   "metadata": {
    "colab_type": "text",
    "id": "W9FWOzKDaDC8"
   },
   "source": [
    "## 將時間與收盤價寫入 Excel \n",
    "\n",
    "```python\n",
    "sheet.range(f\"A{last_row+1}\").value = time.strftime(\"%Y/%m/%d\")\n",
    "sheet.range(f\"B{last_row+1}\").value = closing_price\n",
    "```"
   ]
  },
  {
   "cell_type": "code",
   "execution_count": null,
   "metadata": {
    "colab": {},
    "colab_type": "code",
    "id": "9b8G_zA0aDC-"
   },
   "outputs": [],
   "source": []
  },
  {
   "cell_type": "markdown",
   "metadata": {
    "colab_type": "text",
    "id": "yGZboTzgNP9r"
   },
   "source": [
    "# 完成版程式碼"
   ]
  },
  {
   "cell_type": "code",
   "execution_count": 13,
   "metadata": {
    "colab": {},
    "colab_type": "code",
    "id": "yQvsI2xYNP9v"
   },
   "outputs": [
    {
     "ename": "FileNotFoundError",
     "evalue": "No such file: '檔案 tw_stock_portfolio.xlsx 的路徑'",
     "output_type": "error",
     "traceback": [
      "\u001b[1;31m---------------------------------------------------------------------------\u001b[0m",
      "\u001b[1;31mFileNotFoundError\u001b[0m                         Traceback (most recent call last)",
      "\u001b[1;32m<ipython-input-13-41bd766924dc>\u001b[0m in \u001b[0;36m<module>\u001b[1;34m()\u001b[0m\n\u001b[0;32m     11\u001b[0m \u001b[0mclosing_close\u001b[0m \u001b[1;33m=\u001b[0m \u001b[0mtds\u001b[0m\u001b[1;33m[\u001b[0m\u001b[1;36m2\u001b[0m\u001b[1;33m]\u001b[0m\u001b[1;33m.\u001b[0m\u001b[0mtext\u001b[0m\u001b[1;33m\u001b[0m\u001b[0m\n\u001b[0;32m     12\u001b[0m \u001b[1;33m\u001b[0m\u001b[0m\n\u001b[1;32m---> 13\u001b[1;33m \u001b[0mwb\u001b[0m \u001b[1;33m=\u001b[0m \u001b[0mxw\u001b[0m\u001b[1;33m.\u001b[0m\u001b[0mBook\u001b[0m\u001b[1;33m(\u001b[0m\u001b[1;34mr\"檔案 tw_stock_portfolio.xlsx 的路徑\"\u001b[0m\u001b[1;33m)\u001b[0m\u001b[1;33m\u001b[0m\u001b[0m\n\u001b[0m\u001b[0;32m     14\u001b[0m \u001b[0mdate\u001b[0m \u001b[1;33m=\u001b[0m \u001b[0mtime\u001b[0m\u001b[1;33m.\u001b[0m\u001b[0mstrftime\u001b[0m\u001b[1;33m(\u001b[0m\u001b[1;34m\"%Y/%m/%d\"\u001b[0m\u001b[1;33m)\u001b[0m\u001b[1;33m\u001b[0m\u001b[0m\n\u001b[0;32m     15\u001b[0m \u001b[0msheet\u001b[0m \u001b[1;33m=\u001b[0m \u001b[0mwb\u001b[0m\u001b[1;33m.\u001b[0m\u001b[0msheets\u001b[0m\u001b[1;33m[\u001b[0m\u001b[1;34m\"TW2330\"\u001b[0m\u001b[1;33m]\u001b[0m\u001b[1;33m\u001b[0m\u001b[0m\n",
      "\u001b[1;32mC:\\Program Files (x86)\\Microsoft Visual Studio\\Shared\\Anaconda3_64\\lib\\site-packages\\xlwings\\main.py\u001b[0m in \u001b[0;36m__init__\u001b[1;34m(self, fullname, impl)\u001b[0m\n\u001b[0;32m    478\u001b[0m                     \u001b[1;32mif\u001b[0m \u001b[1;32mnot\u001b[0m \u001b[0mapp\u001b[0m\u001b[1;33m:\u001b[0m\u001b[1;33m\u001b[0m\u001b[0m\n\u001b[0;32m    479\u001b[0m                         \u001b[0mapp\u001b[0m \u001b[1;33m=\u001b[0m \u001b[0mApp\u001b[0m\u001b[1;33m(\u001b[0m\u001b[0madd_book\u001b[0m\u001b[1;33m=\u001b[0m\u001b[1;32mFalse\u001b[0m\u001b[1;33m)\u001b[0m\u001b[1;33m\u001b[0m\u001b[0m\n\u001b[1;32m--> 480\u001b[1;33m                     \u001b[0mimpl\u001b[0m \u001b[1;33m=\u001b[0m \u001b[0mapp\u001b[0m\u001b[1;33m.\u001b[0m\u001b[0mbooks\u001b[0m\u001b[1;33m.\u001b[0m\u001b[0mopen\u001b[0m\u001b[1;33m(\u001b[0m\u001b[0mfullname\u001b[0m\u001b[1;33m)\u001b[0m\u001b[1;33m.\u001b[0m\u001b[0mimpl\u001b[0m\u001b[1;33m\u001b[0m\u001b[0m\n\u001b[0m\u001b[0;32m    481\u001b[0m                 \u001b[1;32melif\u001b[0m \u001b[0mlen\u001b[0m\u001b[1;33m(\u001b[0m\u001b[0mcandidates\u001b[0m\u001b[1;33m)\u001b[0m \u001b[1;33m>\u001b[0m \u001b[1;36m1\u001b[0m\u001b[1;33m:\u001b[0m\u001b[1;33m\u001b[0m\u001b[0m\n\u001b[0;32m    482\u001b[0m                     \u001b[1;32mraise\u001b[0m \u001b[0mException\u001b[0m\u001b[1;33m(\u001b[0m\u001b[1;34m\"Workbook '%s' is open in more than one Excel instance.\"\u001b[0m \u001b[1;33m%\u001b[0m \u001b[0mfullname\u001b[0m\u001b[1;33m)\u001b[0m\u001b[1;33m\u001b[0m\u001b[0m\n",
      "\u001b[1;32mC:\\Program Files (x86)\\Microsoft Visual Studio\\Shared\\Anaconda3_64\\lib\\site-packages\\xlwings\\main.py\u001b[0m in \u001b[0;36mopen\u001b[1;34m(self, fullname)\u001b[0m\n\u001b[0;32m   2735\u001b[0m         \u001b[1;32mif\u001b[0m \u001b[1;32mnot\u001b[0m \u001b[0mos\u001b[0m\u001b[1;33m.\u001b[0m\u001b[0mpath\u001b[0m\u001b[1;33m.\u001b[0m\u001b[0mexists\u001b[0m\u001b[1;33m(\u001b[0m\u001b[0mfullname\u001b[0m\u001b[1;33m)\u001b[0m\u001b[1;33m:\u001b[0m\u001b[1;33m\u001b[0m\u001b[0m\n\u001b[0;32m   2736\u001b[0m             \u001b[1;32mif\u001b[0m \u001b[0mPY3\u001b[0m\u001b[1;33m:\u001b[0m\u001b[1;33m\u001b[0m\u001b[0m\n\u001b[1;32m-> 2737\u001b[1;33m                 \u001b[1;32mraise\u001b[0m \u001b[0mFileNotFoundError\u001b[0m\u001b[1;33m(\u001b[0m\u001b[1;34m\"No such file: '%s'\"\u001b[0m \u001b[1;33m%\u001b[0m \u001b[0mfullname\u001b[0m\u001b[1;33m)\u001b[0m\u001b[1;33m\u001b[0m\u001b[0m\n\u001b[0m\u001b[0;32m   2738\u001b[0m             \u001b[1;32melse\u001b[0m\u001b[1;33m:\u001b[0m\u001b[1;33m\u001b[0m\u001b[0m\n\u001b[0;32m   2739\u001b[0m                 \u001b[1;32mraise\u001b[0m \u001b[0mIOError\u001b[0m\u001b[1;33m(\u001b[0m\u001b[1;34m\"No such file: '%s'\"\u001b[0m \u001b[1;33m%\u001b[0m \u001b[0mfullname\u001b[0m\u001b[1;33m)\u001b[0m\u001b[1;33m\u001b[0m\u001b[0m\n",
      "\u001b[1;31mFileNotFoundError\u001b[0m: No such file: '檔案 tw_stock_portfolio.xlsx 的路徑'"
     ]
    }
   ],
   "source": [
    "from bs4 import BeautifulSoup\n",
    "import requests\n",
    "import time\n",
    "import xlwings as xw\n",
    "\n",
    "res = requests.get('https://tw.stock.yahoo.com/q/q?s=2330')\n",
    "html = BeautifulSoup(res.text, 'html.parser')\n",
    "table = html.findAll(\"table\", { \"border\": 2 })[0]\n",
    "table_row = table.findAll(\"tr\")[1]\n",
    "tds = table_row.findAll(\"td\")\n",
    "closing_close = tds[2].text\n",
    "\n",
    "wb = xw.Book(r\"檔案 tw_stock_portfolio.xlsx 的路徑\")\n",
    "date = time.strftime(\"%Y/%m/%d\")\n",
    "sheet = wb.sheets[\"TW2330\"]\n",
    "last_row = sheet.range(\"B1\").end(\"down\").row\n",
    "sheet.range(f\"B{last_row+1}\").value = closing_price\n",
    "sheet.range(f\"A{last_row+1}\").value = date"
   ]
  },
  {
   "cell_type": "markdown",
   "metadata": {
    "colab_type": "text",
    "id": "-tUUe7yTNP9y"
   },
   "source": [
    "# 小結：\n",
    "\n",
    "1. 學習與實作網頁爬蟲是一個**投資報酬率極高的事務**\n",
    "2. Python 語言由於使用者衆多，**與爬蟲相關的套件、解決方案、與教學也多，讓實作變得相對簡單**\n",
    "3. 實作上，最困難的部分在於**解析網頁的 html 結構**\n",
    "4. 網頁的資料很大的機率都是被封裝在 **table** 這個 html 標簽下\n",
    "5. 但若今天**網頁改版，原先寫好的爬蟲就有可能截取不到資料**"
   ]
  },
  {
   "cell_type": "markdown",
   "metadata": {
    "colab_type": "text",
    "id": "IwXBkvxCNP9z"
   },
   "source": [
    "# 功課：匯率爬蟲\n",
    "\n",
    "請寫一個網頁爬蟲，截取臺灣銀行牌告匯率網頁：\n",
    "\n",
    "http://rate.bot.com.tw/xrt?Lang=zh-TW\n",
    "\n",
    "\n",
    "並且將資料用以下格式呈現在 Excel 内：\n",
    "![](https://drive.google.com/uc?export=download&id=1YCl-QcAJCW951AhosB3HhuV7Fwy3hjMZ)"
   ]
  },
  {
   "cell_type": "code",
   "execution_count": null,
   "metadata": {
    "colab": {},
    "colab_type": "code",
    "id": "ZUCCt1ObNP90"
   },
   "outputs": [],
   "source": []
  }
 ],
 "metadata": {
  "colab": {
   "collapsed_sections": [],
   "name": "Python 程式設計 第七課：網頁爬蟲.ipynb",
   "provenance": []
  },
  "kernelspec": {
   "display_name": "Python 3",
   "language": "python",
   "name": "python3"
  },
  "language_info": {
   "codemirror_mode": {
    "name": "ipython",
    "version": 3
   },
   "file_extension": ".py",
   "mimetype": "text/x-python",
   "name": "python",
   "nbconvert_exporter": "python",
   "pygments_lexer": "ipython3",
   "version": "3.6.5"
  }
 },
 "nbformat": 4,
 "nbformat_minor": 1
}
