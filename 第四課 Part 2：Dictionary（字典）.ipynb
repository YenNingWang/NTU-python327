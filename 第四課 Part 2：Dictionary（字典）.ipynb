{
 "cells": [
  {
   "cell_type": "markdown",
   "metadata": {
    "colab_type": "text",
    "id": "yaMeUaN7U92p"
   },
   "source": [
    "\n",
    "# dict (字典)  dictionary\n",
    "\n",
    "一個由零或多個 **key (鍵)** 與 **value (值)**對所構成的**無序結構**\n",
    "\n",
    "```python\n",
    "dict1 = {\n",
    "    \"a\": 1,\n",
    "    \"b\": 2\n",
    "}\n",
    "\n",
    "print(dict1)\n",
    "```\n"
   ]
  },
  {
   "cell_type": "code",
   "execution_count": 2,
   "metadata": {},
   "outputs": [
    {
     "name": "stdout",
     "output_type": "stream",
     "text": [
      "{'a': 1, 'b': 2, 'c': 3}\n"
     ]
    }
   ],
   "source": [
    "dict1 = {\"a\": 1,\"b\":2,\"c\":3}\n",
    "\n",
    "print(dict1)\n"
   ]
  },
  {
   "cell_type": "code",
   "execution_count": 3,
   "metadata": {},
   "outputs": [
    {
     "data": {
      "text/plain": [
       "2"
      ]
     },
     "execution_count": 3,
     "metadata": {},
     "output_type": "execute_result"
    }
   ],
   "source": [
    "dict1[\"b\"]"
   ]
  },
  {
   "cell_type": "code",
   "execution_count": 2,
   "metadata": {},
   "outputs": [
    {
     "data": {
      "text/plain": [
       "[1, 2, 3]"
      ]
     },
     "execution_count": 2,
     "metadata": {},
     "output_type": "execute_result"
    }
   ],
   "source": [
    "lst = [1,2,3]\n",
    "lst[0:3]"
   ]
  },
  {
   "cell_type": "code",
   "execution_count": 7,
   "metadata": {},
   "outputs": [
    {
     "ename": "TypeError",
     "evalue": "unhashable type: 'slice'",
     "output_type": "error",
     "traceback": [
      "\u001b[1;31m---------------------------------------------------------------------------\u001b[0m",
      "\u001b[1;31mTypeError\u001b[0m                                 Traceback (most recent call last)",
      "\u001b[1;32m<ipython-input-7-0060397ec0c4>\u001b[0m in \u001b[0;36m<module>\u001b[1;34m()\u001b[0m\n\u001b[0;32m      2\u001b[0m \u001b[1;31m#value\u001b[0m\u001b[1;33m\u001b[0m\u001b[1;33m\u001b[0m\u001b[0m\n\u001b[0;32m      3\u001b[0m \u001b[0mdict1\u001b[0m\u001b[1;33m=\u001b[0m\u001b[1;33m{\u001b[0m\u001b[1;34m\"a\"\u001b[0m\u001b[1;33m:\u001b[0m\u001b[1;36m1\u001b[0m\u001b[1;33m,\u001b[0m\u001b[1;34m\"b\"\u001b[0m\u001b[1;33m:\u001b[0m\u001b[1;36m2\u001b[0m\u001b[1;33m,\u001b[0m\u001b[1;34m\"c\"\u001b[0m\u001b[1;33m:\u001b[0m\u001b[1;36m3\u001b[0m\u001b[1;33m,\u001b[0m\u001b[1;34m\"d\"\u001b[0m\u001b[1;33m:\u001b[0m\u001b[1;36m4\u001b[0m\u001b[1;33m,\u001b[0m\u001b[1;34m\"e\"\u001b[0m\u001b[1;33m:\u001b[0m\u001b[1;36m5\u001b[0m\u001b[1;33m}\u001b[0m\u001b[1;33m\u001b[0m\u001b[0m\n\u001b[1;32m----> 4\u001b[1;33m \u001b[0mdict1\u001b[0m\u001b[1;33m[\u001b[0m\u001b[1;34m\"a\"\u001b[0m\u001b[1;33m:\u001b[0m\u001b[1;34m\"c\"\u001b[0m\u001b[1;33m]\u001b[0m\u001b[1;33m\u001b[0m\u001b[0m\n\u001b[0m",
      "\u001b[1;31mTypeError\u001b[0m: unhashable type: 'slice'"
     ]
    }
   ],
   "source": [
    "#key a b c\n",
    "#value\n",
    "dict1={\"a\":1,\"b\":2,\"c\":3,\"d\":4,\"e\":5}\n",
    "dict1[\"a\":\"c\"]  #->不行這樣"
   ]
  },
  {
   "cell_type": "code",
   "execution_count": 1,
   "metadata": {},
   "outputs": [],
   "source": [
    "#list vs dict\n",
    "#list放的是有序的,dict是無序的\n",
    "#要做切片你的資料必須是有序的!"
   ]
  },
  {
   "cell_type": "markdown",
   "metadata": {
    "colab_type": "text",
    "id": "ZDCSjxeyVH8U"
   },
   "source": [
    "# 從 Excel 的角度來理解\n",
    "\n",
    "字典就像是一個對照表：\n",
    "\n",
    "![](https://drive.google.com/uc?export=download&id=1o4f-9DpaVQkvT8aQDP57zDdK07Zoi442)"
   ]
  },
  {
   "cell_type": "markdown",
   "metadata": {
    "colab_type": "text",
    "id": "Si312lvWU92w"
   },
   "source": [
    "# 接下來每當我要讀取出一個值\n",
    "跟 List 不同在於，輸入的是與想取出的值對應的鍵，而非索引值\n",
    "\n",
    "```python\n",
    "dict1[\"a\"]\n",
    "# 1\n",
    "dict1[\"b\"]\n",
    "# 2\n",
    "```\n",
    "\n",
    "# 每一筆值都會對應到一個獨特的鍵，就像是字典一樣"
   ]
  },
  {
   "cell_type": "code",
   "execution_count": 0,
   "metadata": {
    "colab": {},
    "colab_type": "code",
    "id": "imAEgEHiU920"
   },
   "outputs": [],
   "source": []
  },
  {
   "cell_type": "markdown",
   "metadata": {
    "colab_type": "text",
    "id": "rHjXYwzvU93A"
   },
   "source": [
    "# 就像是 VLOOKUP 函數\n",
    "\n",
    "![](https://drive.google.com/uc?export=download&id=1PFpWVfXwNqdjxYUEgP-FGSC87MngmwPX)\n",
    "\n",
    "---\n",
    "# 字典也可以想象成是置物櫃\n",
    "\n",
    "![](https://drive.google.com/uc?export=download&id=1k_qDLrYLI49NgbOT3dFyRij9ugC9E0bu)\n",
    "\n",
    "置物櫃的特性是:\n",
    "\n",
    "**一把鑰匙只能取得一個置物櫃裡的東西**，無法開啓另一個置物櫃\n",
    "\n",
    "\n",
    "# 另外...\n",
    "一個 dict 可以放入**資料型別不同的資料**:\n",
    "\n",
    "```python\n",
    "dict1[\"abc\"] = \"Hello World\"\n",
    "```\n",
    "\n",
    "而 dict1 的內容就會變成\n",
    "\n",
    "```python\n",
    "{\n",
    "\t\"a\": 1,\n",
    "\t\"abc\": \"Hello World\",\n",
    "\t\"b\": 2,\n",
    "\t\"c\": 3\n",
    "}\n",
    "```\n"
   ]
  },
  {
   "cell_type": "code",
   "execution_count": null,
   "metadata": {},
   "outputs": [],
   "source": []
  },
  {
   "cell_type": "markdown",
   "metadata": {
    "colab_type": "text",
    "id": "Y2XEjywZU93K"
   },
   "source": [
    "# 在字典裡新增一個鍵-值對\n",
    "\n",
    "```python\n",
    "dict1[\"c\"] = 3\n",
    "```\n",
    "\n",
    "而 dict1 的內容就會變成\n",
    "\n",
    "```python\n",
    "{\n",
    "\t\"a\": 1,\n",
    "\t\"b\": 2,\n",
    "\t\"c\": 3\n",
    "}\n",
    "```"
   ]
  },
  {
   "cell_type": "code",
   "execution_count": null,
   "metadata": {},
   "outputs": [],
   "source": []
  },
  {
   "cell_type": "code",
   "execution_count": 0,
   "metadata": {
    "colab": {},
    "colab_type": "code",
    "id": "itLUDaX1U93M"
   },
   "outputs": [],
   "source": []
  },
  {
   "cell_type": "markdown",
   "metadata": {
    "colab_type": "text",
    "id": "3oXflGazU93T"
   },
   "source": [
    "# 更新 / 編輯一個 dict 的值\n",
    "\n",
    "```python\n",
    "dict1[\"a\"] = 101\n",
    "\n",
    "print(dict1[\"a\"])\n",
    "# 101\n",
    "```"
   ]
  },
  {
   "cell_type": "code",
   "execution_count": 4,
   "metadata": {
    "colab": {},
    "colab_type": "code",
    "id": "ba_dhiXYU93W"
   },
   "outputs": [
    {
     "name": "stdout",
     "output_type": "stream",
     "text": [
      "101\n"
     ]
    }
   ],
   "source": [
    "dict1={\"a\":1,\"b\":2,\"c\":3,\"d\":4,\"e\":5}\n",
    "\n",
    "dict1[\"a\"] = 101\n",
    "\n",
    "print(dict1[\"a\"])"
   ]
  },
  {
   "cell_type": "markdown",
   "metadata": {
    "colab_type": "text",
    "id": "SiUcA8pmU93g"
   },
   "source": [
    "# 刪除一個 dict 的值\n",
    "```python\n",
    "# 使用 del 關鍵字\n",
    "del dict1[\"b\"]\n",
    "```"
   ]
  },
  {
   "cell_type": "code",
   "execution_count": 6,
   "metadata": {
    "colab": {},
    "colab_type": "code",
    "id": "x8LfaHOfU93i"
   },
   "outputs": [
    {
     "name": "stdout",
     "output_type": "stream",
     "text": [
      "{'a': 1, 'c': 3, 'd': 4, 'e': 5}\n"
     ]
    }
   ],
   "source": [
    "dict1={\"a\":1,\"b\":2,\"c\":3,\"d\":4,\"e\":5}\n",
    "del dict1[\"b\"]\n",
    "print(dict1)"
   ]
  },
  {
   "cell_type": "markdown",
   "metadata": {
    "colab_type": "text",
    "id": "gWIwRplGU93s"
   },
   "source": [
    "# dict.clear()\n",
    "\n",
    "刪除所有項目\n",
    "\n",
    "```python\n",
    "dict1 = {\n",
    "\t\"a\": 1,\n",
    "\t\"b\": 2,\n",
    "\t\"c\": 3\n",
    "}\n",
    "\n",
    "dict1.clear()\n",
    "print(dict1)\n",
    "```"
   ]
  },
  {
   "cell_type": "code",
   "execution_count": 7,
   "metadata": {
    "colab": {},
    "colab_type": "code",
    "id": "ZXbRFaZyU93t"
   },
   "outputs": [
    {
     "name": "stdout",
     "output_type": "stream",
     "text": [
      "{}\n"
     ]
    }
   ],
   "source": [
    "dict1 = { \"a\": 1, \"b\": 2, \"c\": 3} #如果字典裡的東西很多舊分段寫吧~增加可讀性\n",
    "\n",
    "dict1.clear()\n",
    "print(dict1)"
   ]
  },
  {
   "cell_type": "code",
   "execution_count": 12,
   "metadata": {},
   "outputs": [
    {
     "data": {
      "text/plain": [
       "{'a': 1, 'b': 2, 'c': 3, 'd': 4, 'e': 5, 'f': 6, 'g': 7}"
      ]
     },
     "execution_count": 12,
     "metadata": {},
     "output_type": "execute_result"
    }
   ],
   "source": [
    "dict1 = {\n",
    "    'a':1,\n",
    "    'b':2,\n",
    "    'c':3,\n",
    "    'd':4,\n",
    "    'e':5,\n",
    "    'f':6,\n",
    "    'g':7\n",
    "}\n",
    "dict1"
   ]
  },
  {
   "cell_type": "code",
   "execution_count": 13,
   "metadata": {},
   "outputs": [
    {
     "data": {
      "text/plain": [
       "True"
      ]
     },
     "execution_count": 13,
     "metadata": {},
     "output_type": "execute_result"
    }
   ],
   "source": [
    "lst = [1,2,3,4,5]\n",
    "3 in lst"
   ]
  },
  {
   "cell_type": "markdown",
   "metadata": {
    "colab_type": "text",
    "id": "Cs365MsRU93x"
   },
   "source": [
    "# in 運算子\n",
    "\n",
    "檢查一個 dict 内是否有某個鍵\n",
    "\n",
    "```python\n",
    "dict1 = {\n",
    "\t\"a\": 1,\n",
    "\t\"b\": 2,\n",
    "\t\"c\": 3\n",
    "}\n",
    "\n",
    "print(\"a\" in dict1)\n",
    "# True\n",
    "```"
   ]
  },
  {
   "cell_type": "code",
   "execution_count": 14,
   "metadata": {
    "colab": {},
    "colab_type": "code",
    "id": "LRYayONuU93z"
   },
   "outputs": [
    {
     "name": "stdout",
     "output_type": "stream",
     "text": [
      "True\n"
     ]
    }
   ],
   "source": [
    "dict1 = {\n",
    "    \"a\": 1,\n",
    "    \"b\": 2,\n",
    "    \"c\": 3\n",
    "}\n",
    "\n",
    "print(\"a\" in dict1)"
   ]
  },
  {
   "cell_type": "markdown",
   "metadata": {
    "colab_type": "text",
    "id": "QBybKvwuU934"
   },
   "source": [
    "# 字典的特性：無序\n",
    "\n",
    "宣告字典的順序并不會影響到取得資料的正確性...\n",
    "\n",
    "```python\n",
    "dict1 = {\n",
    "    \"b\": 2,\n",
    "    \"a\": 1,\n",
    "    \"c\": 3\n",
    "}\n",
    "\n",
    "dict1[\"a\"]\n",
    "# 1\n",
    "dict1[\"b\"]\n",
    "# 2\n",
    "# 我依然可以得到正確的值\n",
    "```"
   ]
  },
  {
   "cell_type": "code",
   "execution_count": 0,
   "metadata": {
    "colab": {},
    "colab_type": "code",
    "id": "musnpCM9U938"
   },
   "outputs": [],
   "source": []
  },
  {
   "cell_type": "markdown",
   "metadata": {
    "colab_type": "text",
    "id": "xucpAK_5U94F"
   },
   "source": [
    "# dict.keys()\n",
    "\n",
    "取出一個 Dict 内所有的鍵\n",
    "\n",
    "```python\n",
    "print(dict1.keys())\n",
    "# ['b', 'a', 'c']\n",
    "```"
   ]
  },
  {
   "cell_type": "code",
   "execution_count": 15,
   "metadata": {
    "colab": {},
    "colab_type": "code",
    "id": "qswD0sN5U94J"
   },
   "outputs": [
    {
     "data": {
      "text/plain": [
       "dict_keys(['a', 'b', 'c'])"
      ]
     },
     "execution_count": 15,
     "metadata": {},
     "output_type": "execute_result"
    }
   ],
   "source": [
    "dict1.keys()"
   ]
  },
  {
   "cell_type": "markdown",
   "metadata": {
    "colab_type": "text",
    "id": "jTD3p4WrU94P"
   },
   "source": [
    "# dict.values()\n",
    "\n",
    "取出一個 Dict 内所有的值\n",
    "\n",
    "```python\n",
    "print(dict1.values())\n",
    "# [2, 1, 3]\n",
    "```"
   ]
  },
  {
   "cell_type": "code",
   "execution_count": 16,
   "metadata": {
    "colab": {},
    "colab_type": "code",
    "id": "KJhnKvttU94Q"
   },
   "outputs": [
    {
     "name": "stdout",
     "output_type": "stream",
     "text": [
      "dict_values([1, 2, 3])\n"
     ]
    }
   ],
   "source": [
    "print(dict1.values())"
   ]
  },
  {
   "cell_type": "markdown",
   "metadata": {
    "colab_type": "text",
    "id": "WkInypQKU94T"
   },
   "source": [
    "# dict.items()\n",
    "\n",
    "```python\n",
    "dict1 = {\n",
    "    \"b\": 2,\n",
    "    \"a\": 1,\n",
    "    \"c\": 3\n",
    "}\n",
    "\n",
    "dict1.items()\n",
    "# [(\"b\", 2), (\"a\", 1), (\"c\", 3)]\n",
    "```\n"
   ]
  },
  {
   "cell_type": "code",
   "execution_count": 17,
   "metadata": {
    "colab": {},
    "colab_type": "code",
    "id": "evB6Nfr6U94V"
   },
   "outputs": [
    {
     "data": {
      "text/plain": [
       "dict_items([('b', 2), ('a', 1), ('c', 3)])"
      ]
     },
     "execution_count": 17,
     "metadata": {},
     "output_type": "execute_result"
    }
   ],
   "source": [
    "dict1 = {\n",
    "    \"b\": 2,\n",
    "    \"a\": 1,\n",
    "    \"c\": 3\n",
    "}\n",
    "\n",
    "dict1.items()"
   ]
  },
  {
   "cell_type": "markdown",
   "metadata": {
    "colab_type": "text",
    "id": "dq4KHwMfU94b"
   },
   "source": [
    "# 用迴圈迭代所有的 key 和 value\n",
    "\n",
    "```python\n",
    "for key in dict1.keys():\n",
    "    print(key)\n",
    "\n",
    "for value in dict1.values():\n",
    "    print(value)\n",
    "\n",
    "for k, v in dict1.items():\n",
    "    print(\"{} {}\".format(k, v))\n",
    "```"
   ]
  },
  {
   "cell_type": "code",
   "execution_count": null,
   "metadata": {
    "colab": {},
    "colab_type": "code",
    "id": "qaQh7RcXU94h"
   },
   "outputs": [],
   "source": []
  },
  {
   "cell_type": "markdown",
   "metadata": {
    "colab_type": "text",
    "id": "4XVe2_puU94n"
   },
   "source": [
    "# dict() 函數\n",
    "\n",
    "將多個 tuple 轉成 dict\n",
    "\n",
    "```python\n",
    "lol = [(\"a\", \"b\"), (\"c\", \"d\"), (\"e\", 'f')]\n",
    "\n",
    "dict(lol)\n",
    "# {'a': 'b', 'c': 'd', 'e': 'f'}\n",
    "```"
   ]
  },
  {
   "cell_type": "code",
   "execution_count": 0,
   "metadata": {
    "colab": {},
    "colab_type": "code",
    "id": "iqdYVgUeU94r"
   },
   "outputs": [],
   "source": []
  },
  {
   "cell_type": "markdown",
   "metadata": {
    "colab_type": "text",
    "id": "IBjN2Ut9U94y"
   },
   "source": [
    "# 實例\n",
    "\n",
    "將同一天、不同公司的股票放在同一個資料結構裡：\n",
    "\n",
    "```python\n",
    "tw_stock_prices = {\n",
    "    \"tsmc\": 257,\n",
    "    \"cathay\": 55\n",
    "}\n",
    "# 用公司名稱當作 key, 在取用相對應的股價就直覺很多\n",
    "tw_stock_prices[\"cathay\"]\n",
    "# 55\n",
    "```"
   ]
  },
  {
   "cell_type": "code",
   "execution_count": 19,
   "metadata": {
    "colab": {},
    "colab_type": "code",
    "id": "b_bw74VCU941"
   },
   "outputs": [
    {
     "data": {
      "text/plain": [
       "315"
      ]
     },
     "execution_count": 19,
     "metadata": {},
     "output_type": "execute_result"
    }
   ],
   "source": [
    "tw_stock_prices = [315,412,29]\n",
    "tw_stock_prices[0]\n",
    "\n",
    "#注意:如果將資料量提升一個量級...你要怎麼找他在第幾個順序QQ ->用字典比較好"
   ]
  },
  {
   "cell_type": "code",
   "execution_count": 21,
   "metadata": {},
   "outputs": [
    {
     "data": {
      "text/plain": [
       "315"
      ]
     },
     "execution_count": 21,
     "metadata": {},
     "output_type": "execute_result"
    }
   ],
   "source": [
    "tw_stock_prices = {\n",
    "    \"tsmc\": 315,\n",
    "    \"medtk\": 412,\n",
    "    \"esun\": 29\n",
    "}\n",
    "tw_stock_prices[\"tsmc\"] #->字典的話直覺多了~"
   ]
  },
  {
   "cell_type": "code",
   "execution_count": 22,
   "metadata": {},
   "outputs": [
    {
     "data": {
      "text/plain": [
       "315"
      ]
     },
     "execution_count": 22,
     "metadata": {},
     "output_type": "execute_result"
    }
   ],
   "source": [
    "tw_stock_prices = {\n",
    "    \"2330\": 315,\n",
    "    \"2454\": 412,\n",
    "    \"2884\": 29\n",
    "}\n",
    "tw_stock_prices[\"2330\"]  #多筆無序資料,使用字典方便多了"
   ]
  },
  {
   "cell_type": "markdown",
   "metadata": {
    "colab_type": "text",
    "id": "o0PgrXK_U947"
   },
   "source": [
    "# Dict vs List\n",
    "\n",
    "兩者都可以存入多筆資料\n",
    "\n",
    "Dict 適合用於表達一個人、事、物的**多個屬性 (因爲屬性是無序的，不同屬性也可以用不同型別的資料表示)**\n",
    "\n",
    "相對的，List 則適合**有序的、同樣型別的資料 (股價)**\n",
    "\n",
    "但是在實際應用上，`Dict` 與 `List` 多半都是搭配在一起使用"
   ]
  },
  {
   "cell_type": "markdown",
   "metadata": {
    "colab_type": "text",
    "id": "IqoUVkSZU94-"
   },
   "source": [
    "# 巢狀資料結構\n",
    "可以將一個 **list** 變成 **dict** 内的一個 value\n",
    "\n",
    "或是將多個 **dict** 存入一個 **list**\n",
    "\n",
    "若今天希望將多支不同股票、過去同一段時間的歷史資料放到一個資料結構下，就可以：\n",
    "\n",
    "```python \n",
    "tw_stock_prices = {\n",
    "    \"tsmc\": [224.5, 224.5, 233, 237.5, 237.5, 238],\n",
    "    \"cathay\": [55, 53, 52, 55, 56, 57]\n",
    "}\n",
    "```\n",
    "\n",
    "這樣在提取資料時，語法就變得非常直覺：\n",
    "\n",
    "```python\n",
    "# 提取 tsmc 的第一筆資料\n",
    "tw_stock_prices[\"tsmc\"][0]\n",
    "# 224.5\n",
    "\n",
    "# 提取 tsmc 的前三筆資料\n",
    "tw_stock_prices[\"tsmc\"][0:3]\n",
    "# [224.5, 224.5, 233]\n",
    "```\n",
    "\n",
    "注意 `tmsc` 與 `cathay`，也就是**股票名稱之間的關係是無序的**，所以我們用 Dict 封裝它們\n",
    "\n",
    "但是**歷史資料本身是有序的時間序列**，所以我們用 List 封裝它們"
   ]
  },
  {
   "cell_type": "code",
   "execution_count": 26,
   "metadata": {
    "colab": {},
    "colab_type": "code",
    "id": "ien2qCSrU95C"
   },
   "outputs": [
    {
     "name": "stdout",
     "output_type": "stream",
     "text": [
      "tsmc 的第一筆資料: 224.5\n",
      "tsmc 的前三筆資料: [224.5, 224.5, 233]\n"
     ]
    }
   ],
   "source": [
    "tw_stock_prices = {\n",
    "    \"tsmc\": [224.5, 224.5, 233, 237.5, 237.5, 238], #過去的歷史資料 ->有序的 ->用串列封裝\n",
    "    \"cathay\": [55, 53, 52, 55, 56, 57] #這樣合併到同一個資料結溝很方便整理、易查詢\n",
    "}\n",
    "print(\"tsmc 的第一筆資料:\",tw_stock_prices[\"tsmc\"][0]) \n",
    "print(\"tsmc 的前三筆資料:\",tw_stock_prices[\"tsmc\"][0:3])#耶~:D "
   ]
  },
  {
   "cell_type": "markdown",
   "metadata": {
    "colab_type": "text",
    "id": "9fUMFikNVC2Y"
   },
   "source": [
    "# 回家作業\n",
    "\n",
    "幫剪刀石頭布游戲增加一個積分版功能\n",
    "\n",
    "- 將游戲改成比三次才會結束\n",
    "- 最後會有一個積分版功能，記錄並且顯示玩家與電腦的輸贏次數\n",
    "\n",
    "![](https://drive.google.com/uc?export=download&id=1fscms63C8WM5nUOspzWK5WuvxQYAIOR8)"
   ]
  },
  {
   "cell_type": "code",
   "execution_count": 0,
   "metadata": {
    "colab": {},
    "colab_type": "code",
    "id": "1P6Ca1tgVOFh"
   },
   "outputs": [],
   "source": [
    "from random import randint\n",
    "\n",
    "# 將數字轉成相對應的字串\n",
    "def num_to_gesture(num):\n",
    "    if num == 1:\n",
    "        return \"剪刀\"\n",
    "    elif num == 2:\n",
    "        return \"石頭\"\n",
    "    elif num == 3:\n",
    "        return \"布\"\n",
    "\n",
    "# 主程式從這邊開始執行\n",
    "if __name__ == \"__main__\":\n",
    "    print(\"-------歡迎來到剪刀石頭布！-------\")\n",
    "\n",
    "    name = input(\"請輸入您的名稱：\")\n",
    "\n",
    "    user_hand = int(input(\"請出拳 (1) 剪刀 (2) 石頭 (3) 布：\"))\n",
    "\n",
    "    # 電腦出拳\n",
    "    comp_hand = randint(1,3)\n",
    "\n",
    "    print(\"==================================================================\")\n",
    "    print(f\"{name} 出了: {num_to_gesture(user_hand)}, '電腦出了: {num_to_gesture(comp_hand)}\")\n",
    "    print(\"==================================================================\")\n",
    "\n",
    "    # 判斷玩家是贏還是輸\n",
    "    if user_hand == comp_hand:\n",
    "        print('平手!')\n",
    "    elif user_hand == 1 and comp_hand == 3:\n",
    "        print('你贏了!')\n",
    "    elif user_hand == 2 and comp_hand == 1:\n",
    "        print('你贏了!')\n",
    "    elif user_hand == 3 and comp_hand == 2:\n",
    "        print('你贏了!')\n",
    "    else:\n",
    "        print('你輸了!')\n",
    "\n",
    "    print(\"感謝你玩剪刀石頭布！\")"
   ]
  },
  {
   "cell_type": "code",
   "execution_count": null,
   "metadata": {},
   "outputs": [],
   "source": [
    "#Sample from teacher : https://github.com/yuyueugene84/python_rps/blob/step1/rps.py\n",
    "#step 1~5 一步一步增加新的功能"
   ]
  }
 ],
 "metadata": {
  "colab": {
   "collapsed_sections": [],
   "name": "Python 程式設計 第四課 Part 2：Dictionary（字典）.ipynb",
   "provenance": []
  },
  "kernelspec": {
   "display_name": "Python 3",
   "language": "python",
   "name": "python3"
  },
  "language_info": {
   "codemirror_mode": {
    "name": "ipython",
    "version": 3
   },
   "file_extension": ".py",
   "mimetype": "text/x-python",
   "name": "python",
   "nbconvert_exporter": "python",
   "pygments_lexer": "ipython3",
   "version": "3.6.5"
  }
 },
 "nbformat": 4,
 "nbformat_minor": 1
}
